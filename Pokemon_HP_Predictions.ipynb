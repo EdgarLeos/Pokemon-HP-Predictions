{
 "cells": [
  {
   "cell_type": "markdown",
   "metadata": {
    "id": "uBus0-RawpLP"
   },
   "source": [
    "# Can we predict Pokemon Type 1 or HP based on given information?\n",
    "## Authors:\n",
    "*   Edgar Leos Almanza\n",
    "*   Cesar Sanchez\n",
    "*   Moses Garcia\n",
    "---\n",
    "\n",
    "## Introduction:\n",
    "\n",
    "For our project, we worked on a Pokemon dataset that includes the type of Pokemon and their statistics. The objective of this project is to predict the Pokemon's HP based off of the given information. This project might be a bit challenging but definitely worth the struggle as we will be discovering new ways to identify a Pokemon's HP based on essential information. This project allows us to relive our childhood. If we are able to predict the Pokemon's HP based on the Attack, Defense, Sp. Atk, Sp. Def, Speed, and Generation we essentually become better \"Pokemon trainers\" and eventually Pokemon masters."
   ]
  },
  {
   "cell_type": "markdown",
   "metadata": {
    "id": "kwYMSZdP0D8q"
   },
   "source": [
    "# Clear Description of the Source Data Set (Predictions and Features)"
   ]
  },
  {
   "cell_type": "markdown",
   "metadata": {
    "id": "WqXHs7Zlz62p"
   },
   "source": [
    "This project consists of the Pokemon.csv data set which includes **13 features**, with **800 samples**. The data set consists of columns pertaining to the \n",
    "Pokemon's statistics such as: Type, HP, Attack, Defense, etc. Some of the features that will be used as predictors are: _HP_, _Attack_, _Defense_, \n",
    "_Sp. Atk_, _Sp. Def_. \n",
    "\n",
    "After getting an idea of the data that we were working with, we decided to drop **Total** and **Type 2** as those features would not be needed \n",
    "in order to make our predictions. After dropping some features, the data that was left behind contained **2 categorical features**: _Name_, and _Type 1_ and **8 numerical features**: \n",
    "_#_, _HP_, _Attack_, _Defense_, _Sp. Atk_, _Sp. Def_, _Speed_, and _Generation_."
   ]
  },
  {
   "cell_type": "markdown",
   "metadata": {
    "id": "sdetw1qz0Vva"
   },
   "source": [
    "# Preliminary Work on Data Preperation"
   ]
  },
  {
   "cell_type": "code",
   "execution_count": 1,
   "metadata": {
    "id": "C5zzt106vwUG"
   },
   "outputs": [],
   "source": [
    "# -*- coding: utf-8 -*-\n",
    "\"\"\"\n",
    "Created on Tue Feb  9 17:16:48 2021\n",
    "\n",
    "@authors: cesanchez, eleos-almanza, mosegarcia\n",
    "\"\"\"\n",
    "import numpy as np\n",
    "import pandas as pd\n",
    "import seaborn as sns\n",
    "from matplotlib import rcParams\n",
    "import matplotlib.pyplot as plt\n",
    "import warnings\n",
    "warnings.filterwarnings('ignore')\n",
    "from IPython.display import display\n",
    "\n",
    "\n",
    "# allow output to span multiple output lines in the console\n",
    "pd.set_option('display.max_columns', 500)\n",
    "\n",
    "# switch to seaborn default stylistic parameters\n",
    "# see the useful https://seaborn.pydata.org/tutorial/aesthetics.html\n",
    "sns.set()\n",
    "sns.set_context('paper') # 'talk' for slightly larger\n",
    "\n",
    "# change default plot size\n",
    "rcParams['figure.figsize'] = 9,7"
   ]
  },
  {
   "cell_type": "code",
   "execution_count": 2,
   "metadata": {
    "colab": {
     "base_uri": "https://localhost:8080/",
     "height": 37
    },
    "id": "UBRJMqwgNjSf",
    "outputId": "ed1c7a46-34b6-4074-e4f0-f8c41fc408e3"
   },
   "outputs": [
    {
     "data": {
      "text/html": [
       "<script>\n",
       "code_show=true; \n",
       "function code_toggle() {\n",
       " if (code_show){\n",
       " $('div.input').hide();\n",
       " } else {\n",
       " $('div.input').show();\n",
       " }\n",
       " code_show = !code_show\n",
       "} \n",
       "$( document ).ready(code_toggle);\n",
       "</script>\n",
       "<form action=\"javascript:code_toggle()\"><input type=\"submit\" value=\"Click here to display/hide the code.\"></form>"
      ],
      "text/plain": [
       "<IPython.core.display.HTML object>"
      ]
     },
     "execution_count": 2,
     "metadata": {},
     "output_type": "execute_result"
    }
   ],
   "source": [
    "# code in this cell from: \n",
    "# https://stackoverflow.com/questions/27934885/how-to-hide-code-from-cells-in-ipython-notebook-visualized-with-nbviewer\n",
    "from IPython.display import HTML\n",
    "\n",
    "HTML('''<script>\n",
    "code_show=true; \n",
    "function code_toggle() {\n",
    " if (code_show){\n",
    " $('div.input').hide();\n",
    " } else {\n",
    " $('div.input').show();\n",
    " }\n",
    " code_show = !code_show\n",
    "} \n",
    "$( document ).ready(code_toggle);\n",
    "</script>\n",
    "<form action=\"javascript:code_toggle()\"><input type=\"submit\" value=\"Click here to display/hide the code.\"></form>''')"
   ]
  },
  {
   "cell_type": "code",
   "execution_count": 3,
   "metadata": {
    "colab": {
     "base_uri": "https://localhost:8080/"
    },
    "id": "LkyVKIX69wzp",
    "outputId": "93b2df7e-5446-4ad4-eef8-8aeb5c2e777d"
   },
   "outputs": [
    {
     "name": "stdout",
     "output_type": "stream",
     "text": [
      "<class 'pandas.core.frame.DataFrame'>\n",
      "RangeIndex: 800 entries, 0 to 799\n",
      "Data columns (total 13 columns):\n",
      " #   Column      Non-Null Count  Dtype \n",
      "---  ------      --------------  ----- \n",
      " 0   #           800 non-null    int64 \n",
      " 1   Name        800 non-null    object\n",
      " 2   Type 1      800 non-null    object\n",
      " 3   Type 2      414 non-null    object\n",
      " 4   Total       800 non-null    int64 \n",
      " 5   HP          800 non-null    int64 \n",
      " 6   Attack      800 non-null    int64 \n",
      " 7   Defense     800 non-null    int64 \n",
      " 8   Sp. Atk     800 non-null    int64 \n",
      " 9   Sp. Def     800 non-null    int64 \n",
      " 10  Speed       800 non-null    int64 \n",
      " 11  Generation  800 non-null    int64 \n",
      " 12  Legendary   800 non-null    bool  \n",
      "dtypes: bool(1), int64(9), object(3)\n",
      "memory usage: 75.9+ KB\n"
     ]
    }
   ],
   "source": [
    "#import pokemon dataframe\n",
    "df = pd.read_csv(\"https://raw.githubusercontent.com/EdgarLeos/pandas/main/Pokemon.csv?token=AP7V5NEX4ZUMLRL2ZDECRQTAEWOX4\")\n",
    "df.info()"
   ]
  },
  {
   "cell_type": "code",
   "execution_count": 4,
   "metadata": {
    "colab": {
     "base_uri": "https://localhost:8080/",
     "height": 343
    },
    "id": "EjRw9gv9dSze",
    "outputId": "0f419729-6f9b-487e-bdd3-30b33d98cf3c"
   },
   "outputs": [
    {
     "data": {
      "text/html": [
       "<div>\n",
       "<style scoped>\n",
       "    .dataframe tbody tr th:only-of-type {\n",
       "        vertical-align: middle;\n",
       "    }\n",
       "\n",
       "    .dataframe tbody tr th {\n",
       "        vertical-align: top;\n",
       "    }\n",
       "\n",
       "    .dataframe thead th {\n",
       "        text-align: right;\n",
       "    }\n",
       "</style>\n",
       "<table border=\"1\" class=\"dataframe\">\n",
       "  <thead>\n",
       "    <tr style=\"text-align: right;\">\n",
       "      <th></th>\n",
       "      <th>#</th>\n",
       "      <th>Name</th>\n",
       "      <th>Type 1</th>\n",
       "      <th>Type 2</th>\n",
       "      <th>Total</th>\n",
       "      <th>HP</th>\n",
       "      <th>Attack</th>\n",
       "      <th>Defense</th>\n",
       "      <th>Sp. Atk</th>\n",
       "      <th>Sp. Def</th>\n",
       "      <th>Speed</th>\n",
       "      <th>Generation</th>\n",
       "      <th>Legendary</th>\n",
       "    </tr>\n",
       "  </thead>\n",
       "  <tbody>\n",
       "    <tr>\n",
       "      <th>0</th>\n",
       "      <td>1</td>\n",
       "      <td>Bulbasaur</td>\n",
       "      <td>Grass</td>\n",
       "      <td>Poison</td>\n",
       "      <td>318</td>\n",
       "      <td>45</td>\n",
       "      <td>49</td>\n",
       "      <td>49</td>\n",
       "      <td>65</td>\n",
       "      <td>65</td>\n",
       "      <td>45</td>\n",
       "      <td>1</td>\n",
       "      <td>False</td>\n",
       "    </tr>\n",
       "    <tr>\n",
       "      <th>1</th>\n",
       "      <td>2</td>\n",
       "      <td>Ivysaur</td>\n",
       "      <td>Grass</td>\n",
       "      <td>Poison</td>\n",
       "      <td>405</td>\n",
       "      <td>60</td>\n",
       "      <td>62</td>\n",
       "      <td>63</td>\n",
       "      <td>80</td>\n",
       "      <td>80</td>\n",
       "      <td>60</td>\n",
       "      <td>1</td>\n",
       "      <td>False</td>\n",
       "    </tr>\n",
       "    <tr>\n",
       "      <th>2</th>\n",
       "      <td>3</td>\n",
       "      <td>Venusaur</td>\n",
       "      <td>Grass</td>\n",
       "      <td>Poison</td>\n",
       "      <td>525</td>\n",
       "      <td>80</td>\n",
       "      <td>82</td>\n",
       "      <td>83</td>\n",
       "      <td>100</td>\n",
       "      <td>100</td>\n",
       "      <td>80</td>\n",
       "      <td>1</td>\n",
       "      <td>False</td>\n",
       "    </tr>\n",
       "    <tr>\n",
       "      <th>3</th>\n",
       "      <td>3</td>\n",
       "      <td>VenusaurMega Venusaur</td>\n",
       "      <td>Grass</td>\n",
       "      <td>Poison</td>\n",
       "      <td>625</td>\n",
       "      <td>80</td>\n",
       "      <td>100</td>\n",
       "      <td>123</td>\n",
       "      <td>122</td>\n",
       "      <td>120</td>\n",
       "      <td>80</td>\n",
       "      <td>1</td>\n",
       "      <td>False</td>\n",
       "    </tr>\n",
       "    <tr>\n",
       "      <th>4</th>\n",
       "      <td>4</td>\n",
       "      <td>Charmander</td>\n",
       "      <td>Fire</td>\n",
       "      <td>NaN</td>\n",
       "      <td>309</td>\n",
       "      <td>39</td>\n",
       "      <td>52</td>\n",
       "      <td>43</td>\n",
       "      <td>60</td>\n",
       "      <td>50</td>\n",
       "      <td>65</td>\n",
       "      <td>1</td>\n",
       "      <td>False</td>\n",
       "    </tr>\n",
       "    <tr>\n",
       "      <th>5</th>\n",
       "      <td>5</td>\n",
       "      <td>Charmeleon</td>\n",
       "      <td>Fire</td>\n",
       "      <td>NaN</td>\n",
       "      <td>405</td>\n",
       "      <td>58</td>\n",
       "      <td>64</td>\n",
       "      <td>58</td>\n",
       "      <td>80</td>\n",
       "      <td>65</td>\n",
       "      <td>80</td>\n",
       "      <td>1</td>\n",
       "      <td>False</td>\n",
       "    </tr>\n",
       "    <tr>\n",
       "      <th>6</th>\n",
       "      <td>6</td>\n",
       "      <td>Charizard</td>\n",
       "      <td>Fire</td>\n",
       "      <td>Flying</td>\n",
       "      <td>534</td>\n",
       "      <td>78</td>\n",
       "      <td>84</td>\n",
       "      <td>78</td>\n",
       "      <td>109</td>\n",
       "      <td>85</td>\n",
       "      <td>100</td>\n",
       "      <td>1</td>\n",
       "      <td>False</td>\n",
       "    </tr>\n",
       "    <tr>\n",
       "      <th>7</th>\n",
       "      <td>6</td>\n",
       "      <td>CharizardMega Charizard X</td>\n",
       "      <td>Fire</td>\n",
       "      <td>Dragon</td>\n",
       "      <td>634</td>\n",
       "      <td>78</td>\n",
       "      <td>130</td>\n",
       "      <td>111</td>\n",
       "      <td>130</td>\n",
       "      <td>85</td>\n",
       "      <td>100</td>\n",
       "      <td>1</td>\n",
       "      <td>False</td>\n",
       "    </tr>\n",
       "    <tr>\n",
       "      <th>8</th>\n",
       "      <td>6</td>\n",
       "      <td>CharizardMega Charizard Y</td>\n",
       "      <td>Fire</td>\n",
       "      <td>Flying</td>\n",
       "      <td>634</td>\n",
       "      <td>78</td>\n",
       "      <td>104</td>\n",
       "      <td>78</td>\n",
       "      <td>159</td>\n",
       "      <td>115</td>\n",
       "      <td>100</td>\n",
       "      <td>1</td>\n",
       "      <td>False</td>\n",
       "    </tr>\n",
       "    <tr>\n",
       "      <th>9</th>\n",
       "      <td>7</td>\n",
       "      <td>Squirtle</td>\n",
       "      <td>Water</td>\n",
       "      <td>NaN</td>\n",
       "      <td>314</td>\n",
       "      <td>44</td>\n",
       "      <td>48</td>\n",
       "      <td>65</td>\n",
       "      <td>50</td>\n",
       "      <td>64</td>\n",
       "      <td>43</td>\n",
       "      <td>1</td>\n",
       "      <td>False</td>\n",
       "    </tr>\n",
       "  </tbody>\n",
       "</table>\n",
       "</div>"
      ],
      "text/plain": [
       "   #                       Name Type 1  Type 2  Total  HP  Attack  Defense  \\\n",
       "0  1                  Bulbasaur  Grass  Poison    318  45      49       49   \n",
       "1  2                    Ivysaur  Grass  Poison    405  60      62       63   \n",
       "2  3                   Venusaur  Grass  Poison    525  80      82       83   \n",
       "3  3      VenusaurMega Venusaur  Grass  Poison    625  80     100      123   \n",
       "4  4                 Charmander   Fire     NaN    309  39      52       43   \n",
       "5  5                 Charmeleon   Fire     NaN    405  58      64       58   \n",
       "6  6                  Charizard   Fire  Flying    534  78      84       78   \n",
       "7  6  CharizardMega Charizard X   Fire  Dragon    634  78     130      111   \n",
       "8  6  CharizardMega Charizard Y   Fire  Flying    634  78     104       78   \n",
       "9  7                   Squirtle  Water     NaN    314  44      48       65   \n",
       "\n",
       "   Sp. Atk  Sp. Def  Speed  Generation  Legendary  \n",
       "0       65       65     45           1      False  \n",
       "1       80       80     60           1      False  \n",
       "2      100      100     80           1      False  \n",
       "3      122      120     80           1      False  \n",
       "4       60       50     65           1      False  \n",
       "5       80       65     80           1      False  \n",
       "6      109       85    100           1      False  \n",
       "7      130       85    100           1      False  \n",
       "8      159      115    100           1      False  \n",
       "9       50       64     43           1      False  "
      ]
     },
     "execution_count": 4,
     "metadata": {},
     "output_type": "execute_result"
    }
   ],
   "source": [
    "# Get an idea of what info the Data frame has\n",
    "df.head(10)"
   ]
  },
  {
   "cell_type": "markdown",
   "metadata": {
    "id": "OE5of5_A0e-U"
   },
   "source": [
    "# Premiliminary Work on Data Exploration and Visualization "
   ]
  },
  {
   "cell_type": "markdown",
   "metadata": {
    "id": "TK5MF90EYvqy"
   },
   "source": [
    "### Showing the types of Pokemon in our datset."
   ]
  },
  {
   "cell_type": "code",
   "execution_count": 5,
   "metadata": {
    "colab": {
     "base_uri": "https://localhost:8080/",
     "height": 500
    },
    "id": "8vkZAVMSJ_25",
    "outputId": "69ecf8f4-0750-45c8-93ee-8fb162f93d3c"
   },
   "outputs": [
    {
     "data": {
      "text/plain": [
       "Text(0.5, 1.0, 'Pokemon Types')"
      ]
     },
     "execution_count": 5,
     "metadata": {},
     "output_type": "execute_result"
    },
    {
     "data": {
      "image/png": "[encoded data removed]",
      "text/plain": [
       "<Figure size 648x504 with 1 Axes>"
      ]
     },
     "metadata": {},
     "output_type": "display_data"
    }
   ],
   "source": [
    "df['Type 1'].value_counts().plot(kind='bar')\n",
    "plt.ylabel(\"Count\")\n",
    "plt.xlabel(\"Types\")\n",
    "plt.title('Pokemon Types')"
   ]
  },
  {
   "cell_type": "markdown",
   "metadata": {
    "id": "s1bjFl7JZhxX"
   },
   "source": [
    "### Showing the total average of the Pokemon's stats combined per type"
   ]
  },
  {
   "cell_type": "code",
   "execution_count": 6,
   "metadata": {
    "colab": {
     "base_uri": "https://localhost:8080/",
     "height": 500
    },
    "id": "jCfE4r2Bu8Fz",
    "outputId": "b56ab66c-dea4-4a13-b09d-2048ed8e9de4"
   },
   "outputs": [
    {
     "data": {
      "text/plain": [
       "Text(0.5, 1.0, 'Average Stats of Pokemon')"
      ]
     },
     "execution_count": 6,
     "metadata": {},
     "output_type": "execute_result"
    },
    {
     "data": {
      "image/png": "[encoded data removed]",
      "text/plain": [
       "<Figure size 648x504 with 1 Axes>"
      ]
     },
     "metadata": {},
     "output_type": "display_data"
    }
   ],
   "source": [
    "df.groupby(['Type 1'])['Total'].mean().sort_values(ascending = False).plot(kind='bar')\n",
    "plt.ylabel(\"Count\")\n",
    "plt.xlabel(\"Type 1\")\n",
    "plt.title('Average Stats of Pokemon')"
   ]
  },
  {
   "cell_type": "markdown",
   "metadata": {
    "id": "fnmAwNXCcvGe"
   },
   "source": [
    "### Displaying average HP per Pokemon Type"
   ]
  },
  {
   "cell_type": "code",
   "execution_count": 7,
   "metadata": {
    "colab": {
     "base_uri": "https://localhost:8080/",
     "height": 500
    },
    "id": "EQwVhzeOqTJ3",
    "outputId": "8d029b6f-635a-4065-bc14-ce2697219f62"
   },
   "outputs": [
    {
     "data": {
      "text/plain": [
       "Text(0.5, 1.0, 'Average HP with type of Pokemon')"
      ]
     },
     "execution_count": 7,
     "metadata": {},
     "output_type": "execute_result"
    },
    {
     "data": {
      "image/png": "[encoded data removed]",
      "text/plain": [
       "<Figure size 648x504 with 1 Axes>"
      ]
     },
     "metadata": {},
     "output_type": "display_data"
    }
   ],
   "source": [
    "df.groupby(['Type 1'])['HP'].mean().sort_values(ascending = False).plot(kind='bar')\n",
    "plt.ylabel(\"HP\")\n",
    "plt.xlabel(\"Type 1\")\n",
    "plt.title('Average HP with type of Pokemon')"
   ]
  },
  {
   "cell_type": "markdown",
   "metadata": {
    "id": "pgtJrHS-wJLw"
   },
   "source": [
    "### Displaying the amount of pokemon created in each generation within our dataset"
   ]
  },
  {
   "cell_type": "code",
   "execution_count": 8,
   "metadata": {
    "colab": {
     "base_uri": "https://localhost:8080/",
     "height": 470
    },
    "id": "wXVv0VriwJyr",
    "outputId": "27bd0b82-7e91-4915-8630-ccac343a3d1b"
   },
   "outputs": [
    {
     "data": {
      "text/plain": [
       "Text(0.5, 1.0, 'Number of Generations in set')"
      ]
     },
     "execution_count": 8,
     "metadata": {},
     "output_type": "execute_result"
    },
    {
     "data": {
      "image/png": "[encoded data removed]",
      "text/plain": [
       "<Figure size 648x504 with 1 Axes>"
      ]
     },
     "metadata": {},
     "output_type": "display_data"
    }
   ],
   "source": [
    "df['Generation'].value_counts().sort_index().plot(kind='bar')\n",
    "plt.ylabel(\"Count\")\n",
    "plt.xlabel(\"Generation\")\n",
    "plt.title('Number of Generations in set')"
   ]
  },
  {
   "cell_type": "markdown",
   "metadata": {
    "id": "FNBDrY5jgPRI"
   },
   "source": [
    "### Dropping \"Total\" and \"Type 2\" since they were not going to be relevant of our predictions and model. "
   ]
  },
  {
   "cell_type": "code",
   "execution_count": 9,
   "metadata": {
    "colab": {
     "base_uri": "https://localhost:8080/",
     "height": 402
    },
    "id": "lrAsRRKW-A0z",
    "outputId": "7b7e596f-63d5-4b4f-887a-1c228adf49af"
   },
   "outputs": [
    {
     "data": {
      "text/html": [
       "<div>\n",
       "<style scoped>\n",
       "    .dataframe tbody tr th:only-of-type {\n",
       "        vertical-align: middle;\n",
       "    }\n",
       "\n",
       "    .dataframe tbody tr th {\n",
       "        vertical-align: top;\n",
       "    }\n",
       "\n",
       "    .dataframe thead th {\n",
       "        text-align: right;\n",
       "    }\n",
       "</style>\n",
       "<table border=\"1\" class=\"dataframe\">\n",
       "  <thead>\n",
       "    <tr style=\"text-align: right;\">\n",
       "      <th></th>\n",
       "      <th>#</th>\n",
       "      <th>Name</th>\n",
       "      <th>Type 1</th>\n",
       "      <th>HP</th>\n",
       "      <th>Attack</th>\n",
       "      <th>Defense</th>\n",
       "      <th>Sp. Atk</th>\n",
       "      <th>Sp. Def</th>\n",
       "      <th>Speed</th>\n",
       "      <th>Generation</th>\n",
       "      <th>Legendary</th>\n",
       "    </tr>\n",
       "  </thead>\n",
       "  <tbody>\n",
       "    <tr>\n",
       "      <th>0</th>\n",
       "      <td>1</td>\n",
       "      <td>Bulbasaur</td>\n",
       "      <td>Grass</td>\n",
       "      <td>45</td>\n",
       "      <td>49</td>\n",
       "      <td>49</td>\n",
       "      <td>65</td>\n",
       "      <td>65</td>\n",
       "      <td>45</td>\n",
       "      <td>1</td>\n",
       "      <td>False</td>\n",
       "    </tr>\n",
       "    <tr>\n",
       "      <th>1</th>\n",
       "      <td>2</td>\n",
       "      <td>Ivysaur</td>\n",
       "      <td>Grass</td>\n",
       "      <td>60</td>\n",
       "      <td>62</td>\n",
       "      <td>63</td>\n",
       "      <td>80</td>\n",
       "      <td>80</td>\n",
       "      <td>60</td>\n",
       "      <td>1</td>\n",
       "      <td>False</td>\n",
       "    </tr>\n",
       "    <tr>\n",
       "      <th>2</th>\n",
       "      <td>3</td>\n",
       "      <td>Venusaur</td>\n",
       "      <td>Grass</td>\n",
       "      <td>80</td>\n",
       "      <td>82</td>\n",
       "      <td>83</td>\n",
       "      <td>100</td>\n",
       "      <td>100</td>\n",
       "      <td>80</td>\n",
       "      <td>1</td>\n",
       "      <td>False</td>\n",
       "    </tr>\n",
       "    <tr>\n",
       "      <th>3</th>\n",
       "      <td>3</td>\n",
       "      <td>VenusaurMega Venusaur</td>\n",
       "      <td>Grass</td>\n",
       "      <td>80</td>\n",
       "      <td>100</td>\n",
       "      <td>123</td>\n",
       "      <td>122</td>\n",
       "      <td>120</td>\n",
       "      <td>80</td>\n",
       "      <td>1</td>\n",
       "      <td>False</td>\n",
       "    </tr>\n",
       "    <tr>\n",
       "      <th>4</th>\n",
       "      <td>4</td>\n",
       "      <td>Charmander</td>\n",
       "      <td>Fire</td>\n",
       "      <td>39</td>\n",
       "      <td>52</td>\n",
       "      <td>43</td>\n",
       "      <td>60</td>\n",
       "      <td>50</td>\n",
       "      <td>65</td>\n",
       "      <td>1</td>\n",
       "      <td>False</td>\n",
       "    </tr>\n",
       "    <tr>\n",
       "      <th>...</th>\n",
       "      <td>...</td>\n",
       "      <td>...</td>\n",
       "      <td>...</td>\n",
       "      <td>...</td>\n",
       "      <td>...</td>\n",
       "      <td>...</td>\n",
       "      <td>...</td>\n",
       "      <td>...</td>\n",
       "      <td>...</td>\n",
       "      <td>...</td>\n",
       "      <td>...</td>\n",
       "    </tr>\n",
       "    <tr>\n",
       "      <th>795</th>\n",
       "      <td>719</td>\n",
       "      <td>Diancie</td>\n",
       "      <td>Rock</td>\n",
       "      <td>50</td>\n",
       "      <td>100</td>\n",
       "      <td>150</td>\n",
       "      <td>100</td>\n",
       "      <td>150</td>\n",
       "      <td>50</td>\n",
       "      <td>6</td>\n",
       "      <td>True</td>\n",
       "    </tr>\n",
       "    <tr>\n",
       "      <th>796</th>\n",
       "      <td>719</td>\n",
       "      <td>DiancieMega Diancie</td>\n",
       "      <td>Rock</td>\n",
       "      <td>50</td>\n",
       "      <td>160</td>\n",
       "      <td>110</td>\n",
       "      <td>160</td>\n",
       "      <td>110</td>\n",
       "      <td>110</td>\n",
       "      <td>6</td>\n",
       "      <td>True</td>\n",
       "    </tr>\n",
       "    <tr>\n",
       "      <th>797</th>\n",
       "      <td>720</td>\n",
       "      <td>HoopaHoopa Confined</td>\n",
       "      <td>Psychic</td>\n",
       "      <td>80</td>\n",
       "      <td>110</td>\n",
       "      <td>60</td>\n",
       "      <td>150</td>\n",
       "      <td>130</td>\n",
       "      <td>70</td>\n",
       "      <td>6</td>\n",
       "      <td>True</td>\n",
       "    </tr>\n",
       "    <tr>\n",
       "      <th>798</th>\n",
       "      <td>720</td>\n",
       "      <td>HoopaHoopa Unbound</td>\n",
       "      <td>Psychic</td>\n",
       "      <td>80</td>\n",
       "      <td>160</td>\n",
       "      <td>60</td>\n",
       "      <td>170</td>\n",
       "      <td>130</td>\n",
       "      <td>80</td>\n",
       "      <td>6</td>\n",
       "      <td>True</td>\n",
       "    </tr>\n",
       "    <tr>\n",
       "      <th>799</th>\n",
       "      <td>721</td>\n",
       "      <td>Volcanion</td>\n",
       "      <td>Fire</td>\n",
       "      <td>80</td>\n",
       "      <td>110</td>\n",
       "      <td>120</td>\n",
       "      <td>130</td>\n",
       "      <td>90</td>\n",
       "      <td>70</td>\n",
       "      <td>6</td>\n",
       "      <td>True</td>\n",
       "    </tr>\n",
       "  </tbody>\n",
       "</table>\n",
       "<p>800 rows × 11 columns</p>\n",
       "</div>"
      ],
      "text/plain": [
       "       #                   Name   Type 1  HP  Attack  Defense  Sp. Atk  \\\n",
       "0      1              Bulbasaur    Grass  45      49       49       65   \n",
       "1      2                Ivysaur    Grass  60      62       63       80   \n",
       "2      3               Venusaur    Grass  80      82       83      100   \n",
       "3      3  VenusaurMega Venusaur    Grass  80     100      123      122   \n",
       "4      4             Charmander     Fire  39      52       43       60   \n",
       "..   ...                    ...      ...  ..     ...      ...      ...   \n",
       "795  719                Diancie     Rock  50     100      150      100   \n",
       "796  719    DiancieMega Diancie     Rock  50     160      110      160   \n",
       "797  720    HoopaHoopa Confined  Psychic  80     110       60      150   \n",
       "798  720     HoopaHoopa Unbound  Psychic  80     160       60      170   \n",
       "799  721              Volcanion     Fire  80     110      120      130   \n",
       "\n",
       "     Sp. Def  Speed  Generation  Legendary  \n",
       "0         65     45           1      False  \n",
       "1         80     60           1      False  \n",
       "2        100     80           1      False  \n",
       "3        120     80           1      False  \n",
       "4         50     65           1      False  \n",
       "..       ...    ...         ...        ...  \n",
       "795      150     50           6       True  \n",
       "796      110    110           6       True  \n",
       "797      130     70           6       True  \n",
       "798      130     80           6       True  \n",
       "799       90     70           6       True  \n",
       "\n",
       "[800 rows x 11 columns]"
      ]
     },
     "execution_count": 9,
     "metadata": {},
     "output_type": "execute_result"
    }
   ],
   "source": [
    "df.drop(['Total', 'Type 2'], axis=1)"
   ]
  },
  {
   "cell_type": "markdown",
   "metadata": {
    "id": "Narum0pP0xR7"
   },
   "source": [
    "# Preliminary Work on Machine Learning to make Predictions "
   ]
  },
  {
   "cell_type": "markdown",
   "metadata": {
    "id": "QQ5Px3GZWwi9"
   },
   "source": [
    "We will use numerical data from the \"HP\" and calculations (total's/averages) from the \"Attack\" , \"Defense\", \"Sp. Attack\", \"Sp. Defense\" to try to predict a Pokemon's Type as well as Generation and HP. \n",
    "We will be using kNN classification and regression algorithms for our predictions and will determine which one is the most accurate one as well as calculate which prediction will be the most accurate"
   ]
  },
  {
   "cell_type": "markdown",
   "metadata": {
    "id": "v_cR49ngXsuj"
   },
   "source": [
    "# Linear Regression Prediction on HP"
   ]
  },
  {
   "cell_type": "code",
   "execution_count": 10,
   "metadata": {
    "id": "QIsyfOYkXNAt"
   },
   "outputs": [],
   "source": [
    "from sklearn.model_selection import train_test_split , cross_val_score\n",
    "from sklearn.preprocessing import StandardScaler\n",
    "from sklearn.neighbors import KNeighborsRegressor\n",
    "from sklearn.neighbors import KNeighborsClassifier\n",
    "from scipy.stats import zscore\n",
    "from sklearn.linear_model import LinearRegression\n",
    "from sklearn.preprocessing import PolynomialFeatures\n",
    "from sklearn.metrics import mean_squared_error, r2_score"
   ]
  },
  {
   "cell_type": "markdown",
   "metadata": {
    "id": "vS_--3X-Y42l"
   },
   "source": [
    "We will use a subset of the data set for our training and test data. We will keep an unscaled version of the data for one of the experiments that we will be conducting.\n",
    "Since our dataframe is not too large we will then conduct the prediction experiments with the entire dataframe to compare the differences. "
   ]
  },
  {
   "cell_type": "markdown",
   "metadata": {
    "id": "wA5lGCXxbn1N"
   },
   "source": [
    "### **This first set of plots we see the relationships between HP and some of the other features**.\n",
    "\n",
    "We will be analyzing the relationship that the Pokemon's statistics have. In order to to come up with a strategy to effectively predict a Pokemon's HP."
   ]
  },
  {
   "cell_type": "code",
   "execution_count": 11,
   "metadata": {
    "colab": {
     "base_uri": "https://localhost:8080/",
     "height": 900
    },
    "id": "Qgm1fUlOOuLZ",
    "outputId": "cf90e74f-c82e-4c4d-f7f9-42d592a6288e"
   },
   "outputs": [
    {
     "data": {
      "image/png": "[encoded data removed]",
      "text/plain": [
       "<Figure size 900x900 with 30 Axes>"
      ]
     },
     "metadata": {},
     "output_type": "display_data"
    }
   ],
   "source": [
    "sub_df = df[['HP', 'Attack', 'Defense', 'Sp. Atk', 'Sp. Def']]\n",
    "g = sns.PairGrid(sub_df)\n",
    "g.map_diag(sns.histplot)\n",
    "g.map_offdiag(sns.scatterplot);"
   ]
  },
  {
   "cell_type": "markdown",
   "metadata": {
    "id": "s56P4uWeb04L"
   },
   "source": [
    "### **Linear regression with one feature \"Attack\"**\n",
    "\n",
    "To start off our linear regression predictions, we will only use one feature at first and see what is returned. Based off of the analysis we conduct, we will add more features."
   ]
  },
  {
   "cell_type": "code",
   "execution_count": 12,
   "metadata": {
    "colab": {
     "base_uri": "https://localhost:8080/"
    },
    "id": "pgyOETlFQcut",
    "outputId": "0d48a947-630f-4cd3-87f7-b7c83072cb1b"
   },
   "outputs": [
    {
     "data": {
      "text/plain": [
       "LinearRegression()"
      ]
     },
     "execution_count": 12,
     "metadata": {},
     "output_type": "execute_result"
    }
   ],
   "source": [
    "X = df[['Attack']].values\n",
    "y = df['HP'].values\n",
    "\n",
    "regr = LinearRegression()\n",
    "regr.fit(X,y)\n"
   ]
  },
  {
   "cell_type": "markdown",
   "metadata": {
    "id": "8GtJtApvkGTq"
   },
   "source": [
    "In this graph we will be displaying the relationship between HP and Attack of a Pokemon. In doing so, we can visually see if there are some correlations between the two. We can see that the majority of the data follows the regression line with only a few outliers."
   ]
  },
  {
   "cell_type": "code",
   "execution_count": 13,
   "metadata": {
    "colab": {
     "base_uri": "https://localhost:8080/",
     "height": 457
    },
    "id": "G4jKPX1uQxfS",
    "outputId": "8f0d9f96-213d-4310-bdea-04507a86e18b"
   },
   "outputs": [
    {
     "data": {
      "image/png": "[encoded data removed]",
      "text/plain": [
       "<Figure size 648x504 with 1 Axes>"
      ]
     },
     "metadata": {},
     "output_type": "display_data"
    }
   ],
   "source": [
    "Y_pred = regr.predict(X)\n",
    "sns.scatterplot(data = df, x ='Attack', y = 'HP')\n",
    "plt.plot(X, Y_pred, color = 'red')\n",
    "plt.title(\"Linear model of HP using Attack\")\n",
    "plt.show()"
   ]
  },
  {
   "cell_type": "markdown",
   "metadata": {
    "id": "3sz3DmzlSfFv"
   },
   "source": [
    "This model shows that for every increase on Attack units our prediction in HP will go up by .33 health points!"
   ]
  },
  {
   "cell_type": "code",
   "execution_count": 14,
   "metadata": {
    "colab": {
     "base_uri": "https://localhost:8080/"
    },
    "id": "3t2qJHiSRShy",
    "outputId": "6cbf0496-42dc-47d9-d397-d6775204e44b"
   },
   "outputs": [
    {
     "name": "stdout",
     "output_type": "stream",
     "text": [
      "Intercept:  43.01\n",
      "Coefficient for Attack:  0.33\n",
      "r-squared value: 0.18\n"
     ]
    }
   ],
   "source": [
    "print('Intercept: ', \"{:.2f}\".format(regr.intercept_))\n",
    "print('Coefficient for Attack: ', \"{:.2f}\".format(regr.coef_[0]))\n",
    "print('r-squared value:', \"{:.2f}\".format(regr.score(X,y)))"
   ]
  },
  {
   "cell_type": "markdown",
   "metadata": {
    "id": "6efxNbNJb-pc"
   },
   "source": [
    "### **Linear regression with features: \"Attack\", \"Defense\", and \"Sp. Atk\"**\n",
    "\n",
    "Continuing with our linear regression predictions, we willbe adding the features: _Attack_, _Defense_, and _Sp. Atk_ and see what is returned. Based off of the analysis we conduct, we will look into adding a few more features until we obtain the reslults desired. As we can see, _Attack_ still shows as the one that most affects HP change."
   ]
  },
  {
   "cell_type": "code",
   "execution_count": 15,
   "metadata": {
    "colab": {
     "base_uri": "https://localhost:8080/"
    },
    "id": "HeujPZcITCmj",
    "outputId": "8802018c-cd40-4832-f74e-760b8b5dc213"
   },
   "outputs": [
    {
     "data": {
      "text/plain": [
       "LinearRegression()"
      ]
     },
     "execution_count": 15,
     "metadata": {},
     "output_type": "execute_result"
    }
   ],
   "source": [
    "predictors = ['Attack', 'Defense', 'Sp. Atk']\n",
    "target = 'HP'\n",
    "X = df[predictors].values\n",
    "y = df[target]\n",
    "\n",
    "regr2 = LinearRegression()\n",
    "regr2.fit(X,y)"
   ]
  },
  {
   "cell_type": "code",
   "execution_count": 16,
   "metadata": {
    "colab": {
     "base_uri": "https://localhost:8080/"
    },
    "id": "DemFe-HlTlAc",
    "outputId": "6751fc62-ea73-4b87-ec38-9a27c55c9c1d"
   },
   "outputs": [
    {
     "name": "stdout",
     "output_type": "stream",
     "text": [
      "Intercept:  33.89\n",
      "Coefficient for Attack:  0.24\n",
      "Coefficient for Defense:  0.04\n",
      "Coefficient for Sp. Atk:  0.18\n"
     ]
    }
   ],
   "source": [
    "print('Intercept: ', \"{:.2f}\".format(regr2.intercept_))\n",
    "print('Coefficient for Attack: ', \"{:.2f}\".format(regr2.coef_[0]))\n",
    "print('Coefficient for Defense: ', \"{:.2f}\".format(regr2.coef_[1]))\n",
    "print('Coefficient for Sp. Atk: ', \"{:.2f}\".format(regr2.coef_[2]))"
   ]
  },
  {
   "cell_type": "code",
   "execution_count": 17,
   "metadata": {
    "id": "JkUOXCd2WUip"
   },
   "outputs": [],
   "source": [
    "# Formula to compare predicted with actual data findings\n",
    "def plot_actual_predicted(actual, predicted, title):\n",
    "   mins = np.minimum(actual,predicted)\n",
    "   maxs = np.maximum(actual, predicted)\n",
    "   sns.scatterplot(x=actual, y=predicted)\n",
    "   plt.plot([mins.min(),maxs.max()],[mins.min(),maxs.max()], color='red')\n",
    "   plt.title(title)\n",
    "   plt.xlabel('actual')\n",
    "   plt.ylabel('predicted')\n",
    "   plt.show()"
   ]
  },
  {
   "cell_type": "markdown",
   "metadata": {
    "id": "-NbfDbvdcgVy"
   },
   "source": [
    "### **Displaying first prediction results with 3 features**\n",
    "\n",
    "Here we are displaying the correlation that occurs between _Attack_, _Defense_, and _Sp. Atk_. With this linear regression graph, we are able to see that the majority of the data is getting closer together with less outliers. The more features being added, the more correlation that can be seen in the graph and the better the predictions are becoming."
   ]
  },
  {
   "cell_type": "code",
   "execution_count": 18,
   "metadata": {
    "colab": {
     "base_uri": "https://localhost:8080/",
     "height": 457
    },
    "id": "4VlDYH3QW1tq",
    "outputId": "0f592eb5-b134-422c-c008-2389536480fe"
   },
   "outputs": [
    {
     "data": {
      "image/png": "[encoded data removed]",
      "text/plain": [
       "<Figure size 648x504 with 1 Axes>"
      ]
     },
     "metadata": {},
     "output_type": "display_data"
    }
   ],
   "source": [
    "plot_actual_predicted(y, regr2.predict(X), 'Predicted by Actual data')"
   ]
  },
  {
   "cell_type": "code",
   "execution_count": 19,
   "metadata": {
    "id": "bIIKMGl0XLy6"
   },
   "outputs": [],
   "source": [
    "# **Splitting the data into test and train sets**\n",
    "X_train, X_test, y_train, y_test = train_test_split(X, y, test_size=0.25, random_state=0)"
   ]
  },
  {
   "cell_type": "markdown",
   "metadata": {
    "id": "kZV2msvJcu-Z"
   },
   "source": [
    "### **Adding \"Generation\" to the go along with previous features used**\n",
    "\n",
    "In this graph, we are able to see that the predicted versus the actual is realtively close to the linear regression with a few outliers spreading off to the right of the data. "
   ]
  },
  {
   "cell_type": "code",
   "execution_count": 20,
   "metadata": {
    "colab": {
     "base_uri": "https://localhost:8080/"
    },
    "id": "xQyNgC3kZAH6",
    "outputId": "d36d2145-31cf-47f1-e1f2-a85e32014bbd"
   },
   "outputs": [
    {
     "data": {
      "text/plain": [
       "LinearRegression()"
      ]
     },
     "execution_count": 20,
     "metadata": {},
     "output_type": "execute_result"
    }
   ],
   "source": [
    "predictors = ['Attack', 'Defense', 'Sp. Atk', 'Generation']\n",
    "target = 'HP'\n",
    "X = df[predictors].values\n",
    "y = df[target]\n",
    "\n",
    "regr3 = LinearRegression()\n",
    "regr3.fit(X_train,y_train)"
   ]
  },
  {
   "cell_type": "code",
   "execution_count": 21,
   "metadata": {
    "colab": {
     "base_uri": "https://localhost:8080/",
     "height": 457
    },
    "id": "f0N-93G5ZIn9",
    "outputId": "af9bc162-4896-4d13-d9f5-a21324769b97"
   },
   "outputs": [
    {
     "data": {
      "image/png": "[encoded data removed]",
      "text/plain": [
       "<Figure size 648x504 with 1 Axes>"
      ]
     },
     "metadata": {},
     "output_type": "display_data"
    }
   ],
   "source": [
    "plot_actual_predicted(y_train, regr2.predict(X_train), 'Predicted by actual (training data)')"
   ]
  },
  {
   "cell_type": "markdown",
   "metadata": {
    "id": "pc3OF5Wqc076"
   },
   "source": [
    "### **Comparing train and test data**"
   ]
  },
  {
   "cell_type": "code",
   "execution_count": 22,
   "metadata": {
    "colab": {
     "base_uri": "https://localhost:8080/",
     "height": 457
    },
    "id": "ws0-9IVcZR0U",
    "outputId": "eda00689-b4fa-41d3-bbce-5b48b0cfcc2a"
   },
   "outputs": [
    {
     "data": {
      "image/png": "[encoded data removed]",
      "text/plain": [
       "<Figure size 648x504 with 1 Axes>"
      ]
     },
     "metadata": {},
     "output_type": "display_data"
    }
   ],
   "source": [
    "plot_actual_predicted(y_test, regr2.predict(X_test), 'Predicted by actual (training data)')"
   ]
  },
  {
   "cell_type": "markdown",
   "metadata": {
    "id": "5LzlslPnc87j"
   },
   "source": [
    "**Squareroot of the Variance of the residuals result on test set**"
   ]
  },
  {
   "cell_type": "code",
   "execution_count": 23,
   "metadata": {
    "colab": {
     "base_uri": "https://localhost:8080/"
    },
    "id": "PQ9BDGZJZuJ-",
    "outputId": "1db1c1f6-9026-4a93-ad4f-2ed807b1151a"
   },
   "outputs": [
    {
     "name": "stdout",
     "output_type": "stream",
     "text": [
      "RMSE:  25.50\n"
     ]
    }
   ],
   "source": [
    "print(\"RMSE: \" , \"{:.2f}\".format(np.sqrt(np.mean((regr3.predict(X_test) - y_test)**2))))"
   ]
  },
  {
   "cell_type": "markdown",
   "metadata": {
    "id": "5YPgt2w5dNC7"
   },
   "source": [
    "**Going for broke and adding most features**"
   ]
  },
  {
   "cell_type": "code",
   "execution_count": 24,
   "metadata": {
    "colab": {
     "base_uri": "https://localhost:8080/"
    },
    "id": "Bt0xMOHeZ889",
    "outputId": "69ad9f22-6b0e-4048-d13c-1c960271a670"
   },
   "outputs": [
    {
     "data": {
      "text/plain": [
       "LinearRegression()"
      ]
     },
     "execution_count": 24,
     "metadata": {},
     "output_type": "execute_result"
    }
   ],
   "source": [
    "X_train, X_test, y_train, y_test = train_test_split(X, y, test_size=0.25, random_state=0)\n",
    "predictors = ['Attack', 'Defense', 'Sp. Atk', 'Sp. Def','Speed','Generation']\n",
    "target = 'HP'\n",
    "X = df[predictors].values\n",
    "y = df[target]\n",
    "\n",
    "regr4 = LinearRegression()\n",
    "regr4.fit(X_train,y_train)"
   ]
  },
  {
   "cell_type": "code",
   "execution_count": 25,
   "metadata": {
    "colab": {
     "base_uri": "https://localhost:8080/"
    },
    "id": "3JVVC_H9aTWJ",
    "outputId": "d116eaf8-668d-4ccf-952a-f3a531b34606"
   },
   "outputs": [
    {
     "name": "stdout",
     "output_type": "stream",
     "text": [
      "RMSE of reg4: 25.47\n",
      "r-squared value of reg4: 0.2531\n"
     ]
    }
   ],
   "source": [
    "print('RMSE of reg4: {:.2f}'.format(np.sqrt(mean_squared_error(y_test, regr4.predict(X_test)))))\n",
    "print('r-squared value of reg4: {:.4f}'.format(regr4.score(X_train,y_train)))"
   ]
  },
  {
   "cell_type": "markdown",
   "metadata": {
    "id": "L2UNBPZWdSuy"
   },
   "source": [
    "RMSE yileds better results"
   ]
  },
  {
   "cell_type": "markdown",
   "metadata": {
    "id": "fQMsQS46dVzJ"
   },
   "source": [
    "### **Plot on test data shows a better fit, still not the best**"
   ]
  },
  {
   "cell_type": "code",
   "execution_count": 26,
   "metadata": {
    "colab": {
     "base_uri": "https://localhost:8080/",
     "height": 457
    },
    "id": "qvtvFsgubUjR",
    "outputId": "db8f25d6-706d-4dda-c75b-d40692334c5e"
   },
   "outputs": [
    {
     "data": {
      "image/png": "[encoded data removed]",
      "text/plain": [
       "<Figure size 648x504 with 1 Axes>"
      ]
     },
     "metadata": {},
     "output_type": "display_data"
    }
   ],
   "source": [
    "plot_actual_predicted(y_test, regr4.predict(X_test), 'Predicted by actual (Model 4, test data)')"
   ]
  },
  {
   "cell_type": "markdown",
   "metadata": {
    "id": "w1sI_1cBbe9l"
   },
   "source": [
    "**Next we scale data and test again**\n",
    "\n",
    "The following will be a series of scaling the data and retesting everyting in order to obtain the R-squared values and see what the actual percentage of the prediceted data was accurate. "
   ]
  },
  {
   "cell_type": "code",
   "execution_count": 27,
   "metadata": {
    "id": "PHRmj3AabiGX"
   },
   "outputs": [],
   "source": [
    "y=np.array(df['HP'])\n",
    "X = np.array(df[ ['Attack', 'Defense', 'Sp. Atk', 'Sp. Def','Speed','Generation']])\n",
    "X_s = zscore(X)"
   ]
  },
  {
   "cell_type": "markdown",
   "metadata": {
    "id": "sD9lQm9peQRJ"
   },
   "source": [
    "**Comparing New r-squared Value**"
   ]
  },
  {
   "cell_type": "markdown",
   "metadata": {
    "id": "Fiv_b_BAeoXs"
   },
   "source": [
    "We can see below that we are getting slightly better results after scaling the data."
   ]
  },
  {
   "cell_type": "code",
   "execution_count": 28,
   "metadata": {
    "colab": {
     "base_uri": "https://localhost:8080/"
    },
    "id": "FUfc4H8DebtZ",
    "outputId": "d8261cd2-36f0-4b67-80fa-f15f83671d7c"
   },
   "outputs": [
    {
     "name": "stdout",
     "output_type": "stream",
     "text": [
      "r-squared value of regs: 0.2954\n"
     ]
    }
   ],
   "source": [
    "X_train, X_test, y_train, y_test = train_test_split(X_s, y, test_size=0.25, random_state=0)\n",
    "\n",
    "regs = LinearRegression()\n",
    "regs.fit(X_train, y_train)\n",
    "\n",
    "print('r-squared value of regs: {:.4f}'.format(regs.score(X_train,y_train)))"
   ]
  },
  {
   "cell_type": "markdown",
   "metadata": {
    "id": "D_fr9nLtgHtz"
   },
   "source": [
    "**Use ALL the numeric features**\n",
    "\n",
    "Here we will be using every feature starting from _Attack_ and ending on _Generation_. In doing so, we expect to see a greater prediction and more correlation between the features. One weird but neat thing that is observed below is that the Defense and the Speed both reduce as the HP goes up. This makes sense if you are visualizing a Pokemon fighting a bigger Pokemon. The chances of the smaller Pokemon being able to hit a bigger target makes sense. Evasiveness would be less for a bigger Pokemon in comparison to a smaller Pokemon causing the defense to be lower. Generation, Attack and SP.Def seem to be the largest contributors to change. "
   ]
  },
  {
   "cell_type": "code",
   "execution_count": 29,
   "metadata": {
    "colab": {
     "base_uri": "https://localhost:8080/"
    },
    "id": "uX2SeEUafmiD",
    "outputId": "8f9a5427-a2da-4dcd-a87f-e2287b76e1c9"
   },
   "outputs": [
    {
     "name": "stdout",
     "output_type": "stream",
     "text": [
      "Intercept:  28.89\n",
      "Coefficients:\n",
      "  Attack 0.29\n",
      "  Defense -0.04\n",
      "  Sp. Atk 0.10\n",
      "  Sp. Def 0.24\n",
      "  Speed -0.09\n",
      "  Generation 0.33\n"
     ]
    }
   ],
   "source": [
    "y = df['HP']\n",
    "X = df.loc[:,'Attack':'Generation']\n",
    "X_train, X_test, y_train, y_test = train_test_split(X, y, test_size=0.25, random_state=0)\n",
    "\n",
    "reg5 = LinearRegression()\n",
    "reg5.fit(X_train,y_train)\n",
    "j = 0\n",
    "print('Intercept: ', \"{:.2f}\".format(reg5.intercept_))\n",
    "print('Coefficients:')\n",
    "for item in reg5.coef_:\n",
    "  print(\" \", X.columns[j],\"{:.2f}\".format(item))\n",
    "  j+=1\n"
   ]
  },
  {
   "cell_type": "markdown",
   "metadata": {
    "id": "RACkNCXyhBWG"
   },
   "source": [
    "**R-square and RMSE for all features**"
   ]
  },
  {
   "cell_type": "markdown",
   "metadata": {
    "id": "ireKkZk01IRC"
   },
   "source": [
    "RMSE should be a bit lower still."
   ]
  },
  {
   "cell_type": "code",
   "execution_count": 30,
   "metadata": {
    "colab": {
     "base_uri": "https://localhost:8080/"
    },
    "id": "T_7vzeZ2hHk7",
    "outputId": "ddaef985-ff28-427f-c8b2-9adddbc82ee9"
   },
   "outputs": [
    {
     "name": "stdout",
     "output_type": "stream",
     "text": [
      "r-squared value of reg5: 0.30\n",
      "RMSE of reg4: 24.44\n"
     ]
    }
   ],
   "source": [
    "print('r-squared value of reg5: {:.2f}'.format(reg5.score(X_train,y_train)))\n",
    "print('RMSE of reg4: {:.2f}'.format(np.sqrt(mean_squared_error(y_test, reg5.predict(X_test)))))"
   ]
  },
  {
   "cell_type": "markdown",
   "metadata": {
    "id": "JmUHMaqshO3S"
   },
   "source": [
    "**Using PolynomialFeatures**"
   ]
  },
  {
   "cell_type": "code",
   "execution_count": 31,
   "metadata": {
    "id": "0X9fHxvhhTKC"
   },
   "outputs": [],
   "source": [
    "pf = PolynomialFeatures(degree = 2 , include_bias = False)\n",
    "pf.fit(X)\n",
    "X_poly = pf.transform(X)"
   ]
  },
  {
   "cell_type": "code",
   "execution_count": 32,
   "metadata": {
    "colab": {
     "base_uri": "https://localhost:8080/"
    },
    "id": "nzQ6e6vdhS7-",
    "outputId": "636b5331-55f9-4cde-b766-425be117eef6"
   },
   "outputs": [
    {
     "data": {
      "text/plain": [
       "(800, 27)"
      ]
     },
     "execution_count": 32,
     "metadata": {},
     "output_type": "execute_result"
    }
   ],
   "source": [
    "X_poly.shape"
   ]
  },
  {
   "cell_type": "markdown",
   "metadata": {
    "id": "EQDqrBXThch0"
   },
   "source": [
    "**Test/train on all plynomial features!**"
   ]
  },
  {
   "cell_type": "markdown",
   "metadata": {
    "id": "S3oTkXXNhozR"
   },
   "source": [
    "We are able to see that we are getting a lower nunmber than previously which is a good thing to see."
   ]
  },
  {
   "cell_type": "code",
   "execution_count": 33,
   "metadata": {
    "colab": {
     "base_uri": "https://localhost:8080/"
    },
    "id": "8dY_UBVEhjph",
    "outputId": "7dcfe929-85b4-454e-9e04-ab4f66a4ac90"
   },
   "outputs": [
    {
     "name": "stdout",
     "output_type": "stream",
     "text": [
      "RMSE of reg6: 22.85\n"
     ]
    }
   ],
   "source": [
    "X_train, X_test, y_train, y_test = train_test_split(X_poly, y, test_size=0.25, random_state=0)\n",
    "reg6 = LinearRegression()\n",
    "reg6.fit(X_train,y_train)\n",
    "print('RMSE of reg6: {:.2f}'.format(np.sqrt(mean_squared_error(y_test, reg6.predict(X_test)))))"
   ]
  },
  {
   "cell_type": "markdown",
   "metadata": {
    "id": "jlIAJH0ahwZx"
   },
   "source": [
    "**Find single best polyfeature**"
   ]
  },
  {
   "cell_type": "markdown",
   "metadata": {
    "id": "SuGoHjVMiJJC"
   },
   "source": [
    "Here, we are trying to get the best polyfeature in order to predict the Pokemon's HP more accurately. The numbers for the Best RMSE keep going down which is a good thing."
   ]
  },
  {
   "cell_type": "code",
   "execution_count": 34,
   "metadata": {
    "colab": {
     "base_uri": "https://localhost:8080/"
    },
    "id": "Sb7dcR9Th8jq",
    "outputId": "e7b0efa7-171b-4a0a-824e-e9aa64f854e5"
   },
   "outputs": [
    {
     "name": "stdout",
     "output_type": "stream",
     "text": [
      "Best Feature: x0 x3, Best RMSE: 21.44\n"
     ]
    }
   ],
   "source": [
    "i_min = np.array([]);\n",
    "rmse_min = 100\n",
    "x = 0\n",
    "while x < X_train.shape[1]:\n",
    "  scores = cross_val_score(LinearRegression(), X_train[:,[x]], y_train, scoring='neg_mean_squared_error', cv=5)\n",
    "  rmse_test = np.sqrt(-scores.mean())\n",
    "  if rmse_test <= rmse_min:\n",
    "    rmse_min = rmse_test\n",
    "    i_min = x\n",
    "  x+=1\n",
    "print('Best Feature: {}, Best RMSE: {:.2f}'.format(pf.get_feature_names()[i_min], rmse_min))"
   ]
  },
  {
   "cell_type": "markdown",
   "metadata": {
    "id": "_0aBXVlDiRme"
   },
   "source": [
    "**Best combinations of 5 features**"
   ]
  },
  {
   "cell_type": "code",
   "execution_count": 35,
   "metadata": {
    "colab": {
     "base_uri": "https://localhost:8080/"
    },
    "id": "zWZP3ZuiiWSG",
    "outputId": "82854139-5133-4ce4-a1e5-0bfaa31248ae"
   },
   "outputs": [
    {
     "name": "stdout",
     "output_type": "stream",
     "text": [
      "num features: 1; rmse: 21.44\n",
      "num features: 2; rmse: 21.30\n",
      "num features: 3; rmse: 21.18\n",
      "num features: 4; rmse: 21.11\n",
      "num features: 5; rmse: 20.98\n"
     ]
    }
   ],
   "source": [
    "remaining = list(range(X_train.shape[1]))\n",
    "selected = []\n",
    "n = 5\n",
    "while len(selected) < n:\n",
    "  #first run for starting best feature\n",
    "  if (len(selected) == 0):\n",
    "    for i in remaining:\n",
    "      scores = cross_val_score(LinearRegression(), X_train[:,[i]], y_train, scoring='neg_mean_squared_error', cv=5)\n",
    "      rmse_test = np.sqrt(-scores.mean())\n",
    "      if rmse_test <= rmse_min:\n",
    "        rmse_min = rmse_test\n",
    "        i_min = i\n",
    "  else:\n",
    "    for i in remaining:\n",
    "      selected.insert(0,i)\n",
    "      scores = cross_val_score(LinearRegression(),X_train[:,selected], y_train, scoring='neg_mean_squared_error', cv=5)\n",
    "      rmse_test = np.sqrt(-scores.mean())\n",
    "      if rmse_test < rmse_min:\n",
    "        rmse_min = rmse_test \n",
    "        i_min = i\n",
    "      selected.pop(0)\n",
    "  remaining.remove(i_min)\n",
    "  selected.append(i_min)\n",
    "  print('num features: {}; rmse: {:.2f}'.format(len(selected), rmse_min))"
   ]
  },
  {
   "cell_type": "markdown",
   "metadata": {
    "id": "iuyBq8U5ir32"
   },
   "source": [
    "**RMSE of this 5 best features**"
   ]
  },
  {
   "cell_type": "code",
   "execution_count": 36,
   "metadata": {
    "colab": {
     "base_uri": "https://localhost:8080/"
    },
    "id": "5M5SVfgDixJN",
    "outputId": "851cb4c8-9b1c-4366-eec0-e15743442ccf"
   },
   "outputs": [
    {
     "name": "stdout",
     "output_type": "stream",
     "text": [
      "Test RMSE with 10 features: 29.08\n"
     ]
    }
   ],
   "source": [
    "scores = cross_val_score(LinearRegression(),X_test[:,selected], y_test, scoring='neg_mean_squared_error', cv=5)\n",
    "rmse_test = np.sqrt(-scores.mean())\n",
    "print('Test RMSE with 10 features: {:.2f}'.format( rmse_test))   "
   ]
  },
  {
   "cell_type": "markdown",
   "metadata": {
    "id": "cMu3ZyntjFQO"
   },
   "source": [
    "After analyzing the results, the difference between using plynomial features and not is not substantial enough to justify the usage. We should stick to using all initial non-polynomial features."
   ]
  },
  {
   "cell_type": "code",
   "execution_count": 37,
   "metadata": {
    "id": "Ut9JxMxjUhga"
   },
   "outputs": [],
   "source": [
    "# **Making Predictions on Full dataFrame**\n",
    "y = df['HP']\n",
    "X = df.loc[:,'Attack':'Generation']\n",
    "X_train, X_test, y_train, y_test = train_test_split(X, y, test_size=0.25, random_state=0)\n",
    " \n",
    "line_best = LinearRegression()\n",
    "line_best.fit(X_train,y_train)\n",
    " \n",
    "predictions = line_best.predict(X)"
   ]
  },
  {
   "cell_type": "markdown",
   "metadata": {
    "id": "hyklozUpVLB3"
   },
   "source": [
    "### **Adding columns for Predicted HP and Difference**\n",
    "\n",
    "Here we are adding the column _Predicted HP_ and _Predicted % Dif_ in order to filter out the predictions which have a greater percentage of 0. This would mean that that specific Pokemon's HP was not predicted correctly. This will alllow us to gather a count of all the predictions that were incorrect and in return obtain a percentage of accuracy."
   ]
  },
  {
   "cell_type": "code",
   "execution_count": 38,
   "metadata": {
    "id": "hG7TTnbeVNAe"
   },
   "outputs": [],
   "source": [
    "def perdif(v1, v2):\n",
    "  return((v1-v2)/(v1+v2/2))*100"
   ]
  },
  {
   "cell_type": "code",
   "execution_count": 39,
   "metadata": {
    "colab": {
     "base_uri": "https://localhost:8080/",
     "height": 402
    },
    "id": "WeWpFIe2VSBk",
    "outputId": "b6800859-ccf0-46d3-97a9-0773121ad8d1"
   },
   "outputs": [
    {
     "data": {
      "text/html": [
       "<div>\n",
       "<style scoped>\n",
       "    .dataframe tbody tr th:only-of-type {\n",
       "        vertical-align: middle;\n",
       "    }\n",
       "\n",
       "    .dataframe tbody tr th {\n",
       "        vertical-align: top;\n",
       "    }\n",
       "\n",
       "    .dataframe thead th {\n",
       "        text-align: right;\n",
       "    }\n",
       "</style>\n",
       "<table border=\"1\" class=\"dataframe\">\n",
       "  <thead>\n",
       "    <tr style=\"text-align: right;\">\n",
       "      <th></th>\n",
       "      <th>#</th>\n",
       "      <th>Name</th>\n",
       "      <th>Type 1</th>\n",
       "      <th>Type 2</th>\n",
       "      <th>Total</th>\n",
       "      <th>HP</th>\n",
       "      <th>Attack</th>\n",
       "      <th>Defense</th>\n",
       "      <th>Sp. Atk</th>\n",
       "      <th>Sp. Def</th>\n",
       "      <th>Speed</th>\n",
       "      <th>Generation</th>\n",
       "      <th>Legendary</th>\n",
       "      <th>Predicted HP</th>\n",
       "      <th>Predicted % dif</th>\n",
       "    </tr>\n",
       "  </thead>\n",
       "  <tbody>\n",
       "    <tr>\n",
       "      <th>2</th>\n",
       "      <td>3</td>\n",
       "      <td>Venusaur</td>\n",
       "      <td>Grass</td>\n",
       "      <td>Poison</td>\n",
       "      <td>525</td>\n",
       "      <td>80.0</td>\n",
       "      <td>82</td>\n",
       "      <td>83</td>\n",
       "      <td>100</td>\n",
       "      <td>100</td>\n",
       "      <td>80</td>\n",
       "      <td>1</td>\n",
       "      <td>False</td>\n",
       "      <td>77.331939</td>\n",
       "      <td>2.248379</td>\n",
       "    </tr>\n",
       "    <tr>\n",
       "      <th>6</th>\n",
       "      <td>6</td>\n",
       "      <td>Charizard</td>\n",
       "      <td>Fire</td>\n",
       "      <td>Flying</td>\n",
       "      <td>534</td>\n",
       "      <td>78.0</td>\n",
       "      <td>84</td>\n",
       "      <td>78</td>\n",
       "      <td>109</td>\n",
       "      <td>85</td>\n",
       "      <td>100</td>\n",
       "      <td>1</td>\n",
       "      <td>False</td>\n",
       "      <td>73.600362</td>\n",
       "      <td>3.832431</td>\n",
       "    </tr>\n",
       "    <tr>\n",
       "      <th>11</th>\n",
       "      <td>9</td>\n",
       "      <td>Blastoise</td>\n",
       "      <td>Water</td>\n",
       "      <td>NaN</td>\n",
       "      <td>530</td>\n",
       "      <td>79.0</td>\n",
       "      <td>83</td>\n",
       "      <td>100</td>\n",
       "      <td>85</td>\n",
       "      <td>105</td>\n",
       "      <td>78</td>\n",
       "      <td>1</td>\n",
       "      <td>False</td>\n",
       "      <td>76.722386</td>\n",
       "      <td>1.940688</td>\n",
       "    </tr>\n",
       "    <tr>\n",
       "      <th>13</th>\n",
       "      <td>10</td>\n",
       "      <td>Caterpie</td>\n",
       "      <td>Bug</td>\n",
       "      <td>NaN</td>\n",
       "      <td>195</td>\n",
       "      <td>45.0</td>\n",
       "      <td>30</td>\n",
       "      <td>35</td>\n",
       "      <td>20</td>\n",
       "      <td>20</td>\n",
       "      <td>45</td>\n",
       "      <td>1</td>\n",
       "      <td>False</td>\n",
       "      <td>39.403733</td>\n",
       "      <td>8.649313</td>\n",
       "    </tr>\n",
       "    <tr>\n",
       "      <th>14</th>\n",
       "      <td>11</td>\n",
       "      <td>Metapod</td>\n",
       "      <td>Bug</td>\n",
       "      <td>NaN</td>\n",
       "      <td>205</td>\n",
       "      <td>50.0</td>\n",
       "      <td>20</td>\n",
       "      <td>55</td>\n",
       "      <td>25</td>\n",
       "      <td>25</td>\n",
       "      <td>30</td>\n",
       "      <td>1</td>\n",
       "      <td>False</td>\n",
       "      <td>38.718826</td>\n",
       "      <td>16.264805</td>\n",
       "    </tr>\n",
       "    <tr>\n",
       "      <th>...</th>\n",
       "      <td>...</td>\n",
       "      <td>...</td>\n",
       "      <td>...</td>\n",
       "      <td>...</td>\n",
       "      <td>...</td>\n",
       "      <td>...</td>\n",
       "      <td>...</td>\n",
       "      <td>...</td>\n",
       "      <td>...</td>\n",
       "      <td>...</td>\n",
       "      <td>...</td>\n",
       "      <td>...</td>\n",
       "      <td>...</td>\n",
       "      <td>...</td>\n",
       "      <td>...</td>\n",
       "    </tr>\n",
       "    <tr>\n",
       "      <th>789</th>\n",
       "      <td>713</td>\n",
       "      <td>Avalugg</td>\n",
       "      <td>Ice</td>\n",
       "      <td>NaN</td>\n",
       "      <td>514</td>\n",
       "      <td>95.0</td>\n",
       "      <td>117</td>\n",
       "      <td>184</td>\n",
       "      <td>44</td>\n",
       "      <td>46</td>\n",
       "      <td>28</td>\n",
       "      <td>6</td>\n",
       "      <td>False</td>\n",
       "      <td>70.547916</td>\n",
       "      <td>18.769741</td>\n",
       "    </tr>\n",
       "    <tr>\n",
       "      <th>791</th>\n",
       "      <td>715</td>\n",
       "      <td>Noivern</td>\n",
       "      <td>Flying</td>\n",
       "      <td>Dragon</td>\n",
       "      <td>535</td>\n",
       "      <td>85.0</td>\n",
       "      <td>70</td>\n",
       "      <td>80</td>\n",
       "      <td>97</td>\n",
       "      <td>80</td>\n",
       "      <td>123</td>\n",
       "      <td>6</td>\n",
       "      <td>False</td>\n",
       "      <td>66.477514</td>\n",
       "      <td>15.665325</td>\n",
       "    </tr>\n",
       "    <tr>\n",
       "      <th>792</th>\n",
       "      <td>716</td>\n",
       "      <td>Xerneas</td>\n",
       "      <td>Fairy</td>\n",
       "      <td>NaN</td>\n",
       "      <td>680</td>\n",
       "      <td>126.0</td>\n",
       "      <td>131</td>\n",
       "      <td>95</td>\n",
       "      <td>131</td>\n",
       "      <td>98</td>\n",
       "      <td>99</td>\n",
       "      <td>6</td>\n",
       "      <td>True</td>\n",
       "      <td>93.857039</td>\n",
       "      <td>18.587426</td>\n",
       "    </tr>\n",
       "    <tr>\n",
       "      <th>793</th>\n",
       "      <td>717</td>\n",
       "      <td>Yveltal</td>\n",
       "      <td>Dark</td>\n",
       "      <td>Flying</td>\n",
       "      <td>680</td>\n",
       "      <td>126.0</td>\n",
       "      <td>131</td>\n",
       "      <td>95</td>\n",
       "      <td>131</td>\n",
       "      <td>98</td>\n",
       "      <td>99</td>\n",
       "      <td>6</td>\n",
       "      <td>True</td>\n",
       "      <td>93.857039</td>\n",
       "      <td>18.587426</td>\n",
       "    </tr>\n",
       "    <tr>\n",
       "      <th>794</th>\n",
       "      <td>718</td>\n",
       "      <td>Zygarde50% Forme</td>\n",
       "      <td>Dragon</td>\n",
       "      <td>Ground</td>\n",
       "      <td>600</td>\n",
       "      <td>108.0</td>\n",
       "      <td>100</td>\n",
       "      <td>121</td>\n",
       "      <td>81</td>\n",
       "      <td>95</td>\n",
       "      <td>95</td>\n",
       "      <td>6</td>\n",
       "      <td>True</td>\n",
       "      <td>78.034764</td>\n",
       "      <td>20.382104</td>\n",
       "    </tr>\n",
       "  </tbody>\n",
       "</table>\n",
       "<p>337 rows × 15 columns</p>\n",
       "</div>"
      ],
      "text/plain": [
       "       #              Name  Type 1  Type 2  Total     HP  Attack  Defense  \\\n",
       "2      3          Venusaur   Grass  Poison    525   80.0      82       83   \n",
       "6      6         Charizard    Fire  Flying    534   78.0      84       78   \n",
       "11     9         Blastoise   Water     NaN    530   79.0      83      100   \n",
       "13    10          Caterpie     Bug     NaN    195   45.0      30       35   \n",
       "14    11           Metapod     Bug     NaN    205   50.0      20       55   \n",
       "..   ...               ...     ...     ...    ...    ...     ...      ...   \n",
       "789  713           Avalugg     Ice     NaN    514   95.0     117      184   \n",
       "791  715           Noivern  Flying  Dragon    535   85.0      70       80   \n",
       "792  716           Xerneas   Fairy     NaN    680  126.0     131       95   \n",
       "793  717           Yveltal    Dark  Flying    680  126.0     131       95   \n",
       "794  718  Zygarde50% Forme  Dragon  Ground    600  108.0     100      121   \n",
       "\n",
       "     Sp. Atk  Sp. Def  Speed  Generation  Legendary  Predicted HP  \\\n",
       "2        100      100     80           1      False     77.331939   \n",
       "6        109       85    100           1      False     73.600362   \n",
       "11        85      105     78           1      False     76.722386   \n",
       "13        20       20     45           1      False     39.403733   \n",
       "14        25       25     30           1      False     38.718826   \n",
       "..       ...      ...    ...         ...        ...           ...   \n",
       "789       44       46     28           6      False     70.547916   \n",
       "791       97       80    123           6      False     66.477514   \n",
       "792      131       98     99           6       True     93.857039   \n",
       "793      131       98     99           6       True     93.857039   \n",
       "794       81       95     95           6       True     78.034764   \n",
       "\n",
       "     Predicted % dif  \n",
       "2           2.248379  \n",
       "6           3.832431  \n",
       "11          1.940688  \n",
       "13          8.649313  \n",
       "14         16.264805  \n",
       "..               ...  \n",
       "789        18.769741  \n",
       "791        15.665325  \n",
       "792        18.587426  \n",
       "793        18.587426  \n",
       "794        20.382104  \n",
       "\n",
       "[337 rows x 15 columns]"
      ]
     },
     "metadata": {},
     "output_type": "display_data"
    }
   ],
   "source": [
    "df['HP'] = df['HP'].astype(float)\n",
    "\n",
    "df['Predicted HP'] = predictions\n",
    "df['Predicted % dif'] = perdif(df['HP'],df['Predicted HP'])\n",
    "display(df[df['Predicted % dif'] > 0.0])"
   ]
  },
  {
   "cell_type": "markdown",
   "metadata": {
    "id": "_N7JDRYzVdzJ"
   },
   "source": [
    "**Amount of pokemon with a percentage differance of more than 0%**\n",
    "\n",
    "Below we are able to see the total sum of Pokemon that had the HP incorrectly predicted."
   ]
  },
  {
   "cell_type": "code",
   "execution_count": 40,
   "metadata": {
    "colab": {
     "base_uri": "https://localhost:8080/"
    },
    "id": "JYLjTMXdVf0e",
    "outputId": "190e9ba6-0d3f-4bf2-ff7b-b259f70c4ecd"
   },
   "outputs": [
    {
     "name": "stdout",
     "output_type": "stream",
     "text": [
      "Pokemon count with incorrect HP Predictions:  337\n"
     ]
    }
   ],
   "source": [
    "print('Pokemon count with incorrect HP Predictions: ', (df[df['Predicted % dif'] > 0.0]).shape[0])"
   ]
  },
  {
   "cell_type": "markdown",
   "metadata": {
    "id": "27M7X_tA8DEC"
   },
   "source": [
    "**Running the prediction algo 1000 times and compute mean of pokemon with a percentage differance of more than 0%**\n",
    "\n",
    "Below we are able to see that even after trying the prediction algorithm 1000 times, we still got the same result which is not that great. Next we will try KNN Regression to see if that prediction algorithm could give us better results."
   ]
  },
  {
   "cell_type": "code",
   "execution_count": 41,
   "metadata": {
    "colab": {
     "base_uri": "https://localhost:8080/"
    },
    "id": "gIE3wRfb53DU",
    "outputId": "b82d1ba9-fa33-4327-b81e-6d3ff7767973"
   },
   "outputs": [
    {
     "name": "stdout",
     "output_type": "stream",
     "text": [
      "Pokemon count with incorrect HP Predictions over 1000 times: 337.0\n"
     ]
    }
   ],
   "source": [
    "n = 1000\n",
    "tries = []\n",
    "while n > 0:\n",
    "  y = df['HP']\n",
    "  X = df.loc[:,'Attack':'Generation']\n",
    "  X_train, X_test, y_train, y_test = train_test_split(X, y, test_size=0.25, random_state=0)\n",
    "\n",
    "  line_best = LinearRegression()\n",
    "  line_best.fit(X_train,y_train)\n",
    "\n",
    "  predictions = line_best.predict(X)\n",
    "  df['HP'] = df['HP'].astype(float)\n",
    "  df['Predicted HP'] = predictions\n",
    "  df['Predicted % dif'] = perdif(df['HP'],df['Predicted HP'])\n",
    "  tries.append((df[df['Predicted % dif'] > 0.0]).shape[0])\n",
    "  n -= 1\n",
    "print('Pokemon count with incorrect HP Predictions over 1000 times:', sum(tries)/len(tries))"
   ]
  },
  {
   "cell_type": "markdown",
   "metadata": {
    "id": "gz6kDhywX5QG"
   },
   "source": [
    "# KNN Regression Prediction on HP"
   ]
  },
  {
   "cell_type": "code",
   "execution_count": 42,
   "metadata": {
    "id": "ScubBoSYZtLX"
   },
   "outputs": [],
   "source": [
    "# for repeatability\n",
    "np.random.seed(0)   "
   ]
  },
  {
   "cell_type": "code",
   "execution_count": 43,
   "metadata": {
    "id": "g98ZXbuAZuFB"
   },
   "outputs": [],
   "source": [
    "# select first set of predictor variables and target variables to be used with regression\n",
    "predictors = ['Attack', 'Defense', 'Sp. Atk', 'Sp. Def']\n",
    "target = 'HP'\n",
    "X = df[predictors].values\n",
    "y = df[target].values"
   ]
  },
  {
   "cell_type": "markdown",
   "metadata": {
    "id": "Y2gCIzOqa9qb"
   },
   "source": [
    "First prediction will also only use the full dataframe. We will use partial percentage of the dataframe after. "
   ]
  },
  {
   "cell_type": "code",
   "execution_count": 44,
   "metadata": {
    "id": "hw6a1yHBZ5b3"
   },
   "outputs": [],
   "source": [
    "# KNN 100%\n",
    "indexes = np.random.choice(y.size, size=400)\n",
    "X_mini = X[indexes]\n",
    "y_mini = y[indexes]"
   ]
  },
  {
   "cell_type": "code",
   "execution_count": 45,
   "metadata": {
    "id": "zq6DtSFxZ9aG"
   },
   "outputs": [],
   "source": [
    "# Split the data into training and test sets, and scale\n",
    "scaler = StandardScaler()\n",
    "\n",
    "# unscaled version (note that scaling is only used on predictor variables)\n",
    "X_train_raw, X_test_raw, y_train, y_test = train_test_split(X_mini, y_mini, test_size=0.30, random_state=42)\n",
    "\n",
    "# scaled version\n",
    "X_train = scaler.fit_transform(X_train_raw)\n",
    "X_test = scaler.transform(X_test_raw)"
   ]
  },
  {
   "cell_type": "code",
   "execution_count": 46,
   "metadata": {
    "colab": {
     "base_uri": "https://localhost:8080/"
    },
    "id": "orDSaSTfaAwr",
    "outputId": "455fd964-a420-4b63-8fe2-5b9c39b10cce"
   },
   "outputs": [
    {
     "name": "stdout",
     "output_type": "stream",
     "text": [
      "(280, 4)\n",
      "[[-0.25965729  0.15460605 -0.05489393  0.87258133]\n",
      " [-0.10993727 -0.01357458  0.55991809  1.06587466]\n",
      " [ 0.78838285 -0.18175521  2.25065114  0.29270133]]\n"
     ]
    }
   ],
   "source": [
    "# sanity check\n",
    "print(X_train.shape)\n",
    "print(X_train[:3])"
   ]
  },
  {
   "cell_type": "markdown",
   "metadata": {
    "id": "fJynO8Hl4x7L"
   },
   "source": [
    "**Baseline performace**"
   ]
  },
  {
   "cell_type": "markdown",
   "metadata": {
    "id": "yN5GXXx747k-"
   },
   "source": [
    "Could This mean that KNNRegression is more effective than LinearRegression? We already have a better result than linear progression without having to modify any models so far. We shall see if KNN Regression could give us the desired predictions or at least be more accurate."
   ]
  },
  {
   "cell_type": "code",
   "execution_count": 47,
   "metadata": {
    "id": "RLf_QTYN4IvP"
   },
   "outputs": [],
   "source": [
    "def rmse(predicted, actual):\n",
    "    return np.sqrt(((predicted - actual)**2).mean())"
   ]
  },
  {
   "cell_type": "code",
   "execution_count": 48,
   "metadata": {
    "colab": {
     "base_uri": "https://localhost:8080/"
    },
    "id": "KNjcNuIW4MNo",
    "outputId": "f21e66ae-523d-4455-c622-cc32ba65eac5"
   },
   "outputs": [
    {
     "name": "stdout",
     "output_type": "stream",
     "text": [
      "RMSE:  15.16431117239861\n"
     ]
    }
   ],
   "source": [
    "knn = KNeighborsRegressor(algorithm='brute')\n",
    "knn.fit(X_train, y_train)\n",
    "predictions = knn.predict(X_test)\n",
    "RMSE = rmse(predictions, y_test)\n",
    "print('RMSE: ', RMSE)"
   ]
  },
  {
   "cell_type": "markdown",
   "metadata": {
    "id": "moZZwp5z5DEr"
   },
   "source": [
    "**Changing the Ks detrminating which is the best**\n",
    "\n",
    "Here we are testing to see what the K value should be in order to obtain the best predictions and have a higher accuracy."
   ]
  },
  {
   "cell_type": "code",
   "execution_count": 49,
   "metadata": {
    "colab": {
     "base_uri": "https://localhost:8080/"
    },
    "id": "A70GKAx25IU5",
    "outputId": "4bbef562-7265-4dc4-d39f-41ef300aa6b6"
   },
   "outputs": [
    {
     "name": "stdout",
     "output_type": "stream",
     "text": [
      "1  3  5  7  9  11  13  15  17  19  21  23  25  27  29  done\n",
      "Test RMSE when k = 5: 15.2\n",
      "Best k = 9, Best Test RMSE: 14.7\n"
     ]
    }
   ],
   "source": [
    "def get_train_test_rmse(regr, X_train, X_test, y_train, y_test):\n",
    "  regr.fit(X_train, y_train)\n",
    "  predict_train = regr.predict(X_train)\n",
    "  predict_test = regr.predict(X_test)\n",
    "  rmse_train = rmse(predict_train,y_train)\n",
    "  rmse_test = rmse(predict_test, y_test)\n",
    "  return rmse_train, rmse_test\n",
    "\n",
    "n = 30\n",
    "test_rmse = []\n",
    "train_rmse = []\n",
    "ks = np.arange(1, n+1, 2)\n",
    "for k in ks:\n",
    "    print(k, ' ', end='')\n",
    "    regr = KNeighborsRegressor(n_neighbors=k, algorithm='brute')\n",
    "    rmse_tr, rmse_te = get_train_test_rmse(regr, X_train, X_test, y_train, y_test)\n",
    "    train_rmse.append(rmse_tr)\n",
    "    test_rmse.append(rmse_te)\n",
    "print('done')\n",
    "\n",
    "# sanity check\n",
    "print('Test RMSE when k = 5: {:0.1f}'.format(test_rmse[2]))\n",
    "\n",
    "def get_best(ks, rmse):\n",
    "    return ks[rmse.index(min(rmse))] , min(rmse)\n",
    "\n",
    "best_k, best_rmse = get_best(ks, test_rmse)\n",
    "print('Best k = {}, Best Test RMSE: {:0.1f}'.format(best_k, best_rmse))"
   ]
  },
  {
   "cell_type": "markdown",
   "metadata": {
    "id": "y5jkFzyI5Zzc"
   },
   "source": [
    "Now it's time to plot the test and training RMSE as a function of k, for all the k values in order to see how well the model will predict."
   ]
  },
  {
   "cell_type": "code",
   "execution_count": 50,
   "metadata": {
    "colab": {
     "base_uri": "https://localhost:8080/",
     "height": 429
    },
    "id": "w32fWEJb5eJ3",
    "outputId": "10a52f50-0c4a-432b-d359-c6eaafdde2c8"
   },
   "outputs": [
    {
     "data": {
      "image/png": "[encoded data removed]",
      "text/plain": [
       "<Figure size 648x504 with 1 Axes>"
      ]
     },
     "metadata": {},
     "output_type": "display_data"
    }
   ],
   "source": [
    "test = pd.Series(data = test_rmse, index = ks)\n",
    "train = pd.Series(data = train_rmse, index = ks)\n",
    "plt.plot(test.index, test, label=\"Test RMSE\")\n",
    "plt.plot(train.index, train, label = \"Training RMSE\")\n",
    "plt.legend()\n",
    "plt.show()"
   ]
  },
  {
   "cell_type": "markdown",
   "metadata": {
    "id": "UW2vWxyB5yHF"
   },
   "source": [
    "**Changing the distance metric**\n",
    "\n",
    "Still trying to get the best RMSE results to have our predictions be more accurate. Changing the disance metric made little to no difference."
   ]
  },
  {
   "cell_type": "code",
   "execution_count": 51,
   "metadata": {
    "colab": {
     "base_uri": "https://localhost:8080/"
    },
    "id": "5Uz4Ds6P52tI",
    "outputId": "afcad4bd-dede-4829-f4ec-3b9a3ee3e4f1"
   },
   "outputs": [
    {
     "name": "stdout",
     "output_type": "stream",
     "text": [
      "1  3  5  7  9  11  13  15  17  19  21  23  25  27  29  done\n",
      "best k = 11, best test RMSE: 14.1\n"
     ]
    }
   ],
   "source": [
    "n = 30\n",
    "test_rmse = []\n",
    "train_rmse = []\n",
    "ks = np.arange(1, n+1, 2)\n",
    "for k in ks:\n",
    "    print(k, ' ', end='')\n",
    "    regr = KNeighborsRegressor(n_neighbors=k, algorithm='brute', metric = 'manhattan')\n",
    "    rmse_tr, rmse_te = get_train_test_rmse(regr, X_train, X_test, y_train, y_test)\n",
    "    train_rmse.append(rmse_tr)\n",
    "    test_rmse.append(rmse_te)\n",
    "print('done')\n",
    "\n",
    "def get_best(ks, rmse):\n",
    "    return ks[rmse.index(min(rmse))] , min(rmse)\n",
    "\n",
    "best_k, best_rmse = get_best(ks, test_rmse)\n",
    "print('best k = {}, best test RMSE: {:0.1f}'.format(best_k, best_rmse))"
   ]
  },
  {
   "cell_type": "markdown",
   "metadata": {
    "id": "ac8d159L6NnR"
   },
   "source": [
    "**adding noise prediction (not neccesary)**"
   ]
  },
  {
   "cell_type": "code",
   "execution_count": 52,
   "metadata": {
    "colab": {
     "base_uri": "https://localhost:8080/",
     "height": 446
    },
    "id": "gTMHYb4_6RUE",
    "outputId": "7fe3d6f9-e3d0-4479-81ca-ca10a20c4f8d"
   },
   "outputs": [
    {
     "name": "stdout",
     "output_type": "stream",
     "text": [
      "0  1  2  3  done\n"
     ]
    },
    {
     "data": {
      "image/png": "[encoded data removed]",
      "text/plain": [
       "<Figure size 648x504 with 1 Axes>"
      ]
     },
     "metadata": {},
     "output_type": "display_data"
    }
   ],
   "source": [
    "def add_noise_predictor(X):\n",
    "    \"\"\" add a column of random values to 2D array X \"\"\"\n",
    "    noise = np.random.normal(size=(X.shape[0], 1))\n",
    "    return np.hstack((X, noise))\n",
    "    \n",
    "k=10\n",
    "noisy_test_rmse = []\n",
    "noisy_train_rmse = []\n",
    "xs = np.arange(4)\n",
    "noisy_train = X_train.copy()\n",
    "noisy_test = X_test.copy()\n",
    "for x in xs:\n",
    "  print(x, ' ', end='')\n",
    "  noisy_train = add_noise_predictor(noisy_train)\n",
    "  noisy_test = add_noise_predictor(noisy_test)\n",
    "  regr = KNeighborsRegressor(n_neighbors=k, algorithm='brute')\n",
    "  rmse_tr, rmse_te = get_train_test_rmse(regr, noisy_train, noisy_test, y_train, y_test)\n",
    "  noisy_train_rmse.append(rmse_tr)\n",
    "  noisy_test_rmse.append(rmse_te)\n",
    "print('done')\n",
    "\n",
    "knn_10 = KNeighborsRegressor(n_neighbors=k, algorithm='brute')\n",
    "knn_10.fit(X_train, y_train)\n",
    "predictions_k10 = knn_10.predict(X_test)\n",
    "base_rmse = rmse(predictions_k10, y_test)\n",
    "perc_dif = pd.Series(index = xs, data = (100 * (noisy_test_rmse - base_rmse)/base_rmse))\n",
    "plt.plot(perc_dif)\n",
    "plt.show()"
   ]
  },
  {
   "cell_type": "markdown",
   "metadata": {
    "id": "9L20XfHF7XtA"
   },
   "source": [
    "**Test with unscaled data**"
   ]
  },
  {
   "cell_type": "markdown",
   "metadata": {
    "id": "fgExgAh_7kpx"
   },
   "source": [
    "There is not much of a difference observed. Only from (0.6) - 4.1%"
   ]
  },
  {
   "cell_type": "code",
   "execution_count": 53,
   "metadata": {
    "colab": {
     "base_uri": "https://localhost:8080/"
    },
    "id": "7FI-dzPC7eS2",
    "outputId": "9d1fbbd7-a59a-4184-a357-0591c69bf800"
   },
   "outputs": [
    {
     "name": "stdout",
     "output_type": "stream",
     "text": [
      "1  3  5  7  9  11  13  15  17  19  21  23  25  27  29  done\n",
      "best k = 11, best test RMSE: 14.7\n"
     ]
    }
   ],
   "source": [
    "n_raw = 30\n",
    "test_rmse_raw = []\n",
    "train_rmse_raw = []\n",
    "ks_raw = np.arange(1, n_raw+1, 2)\n",
    "\n",
    "for k in ks_raw:\n",
    "    print(k, ' ', end='')\n",
    "    regr_raw = KNeighborsRegressor(n_neighbors=k, algorithm='brute')\n",
    "    rmse_tr_raw, rmse_te_raw = get_train_test_rmse(regr_raw, X_train_raw, X_test_raw, y_train, y_test)\n",
    "    train_rmse_raw.append(rmse_tr_raw)\n",
    "    test_rmse_raw.append(rmse_te_raw)\n",
    "print('done')\n",
    "\n",
    "best_k_raw, best_rmse_raw = get_best(ks_raw, test_rmse_raw)\n",
    "print('best k = {}, best test RMSE: {:0.1f}'.format(best_k, best_rmse_raw))"
   ]
  },
  {
   "cell_type": "markdown",
   "metadata": {
    "id": "dfIaCX-G8FWZ"
   },
   "source": [
    "**Testing different algorithms to obtain highest accuracy**"
   ]
  },
  {
   "cell_type": "code",
   "execution_count": 54,
   "metadata": {
    "colab": {
     "base_uri": "https://localhost:8080/"
    },
    "id": "JM_UIaZ78I_c",
    "outputId": "1bb0b8d3-e055-43e4-ac0d-55fb5bbe6889"
   },
   "outputs": [
    {
     "name": "stdout",
     "output_type": "stream",
     "text": [
      "ball_tree  kd_tree  brute  done\n",
      "best algorithm = brute, best test RMSE: 14.8\n"
     ]
    }
   ],
   "source": [
    "k=10\n",
    "alg_test_rmse = []\n",
    "algs = ['ball_tree', 'kd_tree', 'brute']\n",
    "xs = np.arange(3)\n",
    "for x in xs:\n",
    "  print(algs[x], ' ', end='')\n",
    "  alg_regr = KNeighborsRegressor(n_neighbors=k, algorithm=algs[x])\n",
    "  rmse_tr, rmse_te = get_train_test_rmse(alg_regr, X_train, X_test, y_train, y_test)\n",
    "  alg_test_rmse.append(rmse_te)\n",
    "print('done')\n",
    "\n",
    "best_alg, best_rmse_alg = get_best(algs, alg_test_rmse)\n",
    "print('best algorithm = {}, best test RMSE: {:0.1f}'.format(best_alg, best_rmse_alg))"
   ]
  },
  {
   "cell_type": "markdown",
   "metadata": {
    "id": "8UJ8LiQf8jYS"
   },
   "source": [
    "**Testing different weighting**"
   ]
  },
  {
   "cell_type": "code",
   "execution_count": 55,
   "metadata": {
    "colab": {
     "base_uri": "https://localhost:8080/"
    },
    "id": "eILZoq9d8qTy",
    "outputId": "9bdf4f5e-81a6-4709-8055-f6fed2a6d25d"
   },
   "outputs": [
    {
     "name": "stdout",
     "output_type": "stream",
     "text": [
      "uniform  distance  done\n",
      "best weighting = uniform, best test RMSE: 14.8\n"
     ]
    }
   ],
   "source": [
    "k=10\n",
    "wei_test_rmse = []\n",
    "wei_param = ['uniform', 'distance']\n",
    "xs = np.arange(2)\n",
    "for x in xs:\n",
    "  print(wei_param[x], ' ', end='')\n",
    "  wei_regr = KNeighborsRegressor(n_neighbors=k, weights=wei_param[x])\n",
    "  \n",
    "  wei_test_rmse.append(rmse_te)\n",
    "print('done')\n",
    "\n",
    "best_wei, best_rmse_wie = get_best(wei_param, wei_test_rmse)\n",
    "print('best weighting = {}, best test RMSE: {:0.1f}'.format(best_wei, best_rmse_wie))"
   ]
  },
  {
   "cell_type": "markdown",
   "metadata": {
    "id": "ywfuEQ1181sn"
   },
   "source": [
    "**Using all best hyperparameters**\n",
    "\n",
    "We can see below that using the best hyperparameters analyzed from before give us much better RMSE results!"
   ]
  },
  {
   "cell_type": "code",
   "execution_count": 56,
   "metadata": {
    "colab": {
     "base_uri": "https://localhost:8080/"
    },
    "id": "9SJ043PI85Mq",
    "outputId": "0a6b537c-fea9-4e7e-cdd9-b21b25482e11"
   },
   "outputs": [
    {
     "name": "stdout",
     "output_type": "stream",
     "text": [
      "RMSE:  12.496828050891105\n"
     ]
    }
   ],
   "source": [
    "knn_regr = KNeighborsRegressor(n_neighbors= 11, weights='distance', algorithm='brute', metric= 'manhattan')\n",
    "knn_regr.fit(X, y)\n",
    "rmse_tr, rmse_te = get_train_test_rmse(knn_regr, X_train, X_test, y_train, y_test)\n",
    "print('RMSE: ', rmse_te)"
   ]
  },
  {
   "cell_type": "code",
   "execution_count": 57,
   "metadata": {
    "id": "uQZsEoLFRPWN"
   },
   "outputs": [],
   "source": [
    "# **Making predictions on full dataframe**\n",
    "predictions = knn_regr.predict(X)"
   ]
  },
  {
   "cell_type": "markdown",
   "metadata": {
    "id": "uHAZWRIVRIhb"
   },
   "source": [
    "### **Adding columns for Predicted HP and Difference**"
   ]
  },
  {
   "cell_type": "code",
   "execution_count": 58,
   "metadata": {
    "id": "fiU0XODuNUBl"
   },
   "outputs": [],
   "source": [
    "def perdif(v1, v2):\n",
    "  return((v1-v2)/(v1+v2/2))*100"
   ]
  },
  {
   "cell_type": "code",
   "execution_count": 59,
   "metadata": {
    "colab": {
     "base_uri": "https://localhost:8080/",
     "height": 402
    },
    "id": "92Cfiwrr_6yu",
    "outputId": "252bb298-dca7-4227-f854-fcacc773d5bb"
   },
   "outputs": [
    {
     "data": {
      "text/html": [
       "<div>\n",
       "<style scoped>\n",
       "    .dataframe tbody tr th:only-of-type {\n",
       "        vertical-align: middle;\n",
       "    }\n",
       "\n",
       "    .dataframe tbody tr th {\n",
       "        vertical-align: top;\n",
       "    }\n",
       "\n",
       "    .dataframe thead th {\n",
       "        text-align: right;\n",
       "    }\n",
       "</style>\n",
       "<table border=\"1\" class=\"dataframe\">\n",
       "  <thead>\n",
       "    <tr style=\"text-align: right;\">\n",
       "      <th></th>\n",
       "      <th>#</th>\n",
       "      <th>Name</th>\n",
       "      <th>Type 1</th>\n",
       "      <th>Type 2</th>\n",
       "      <th>Total</th>\n",
       "      <th>HP</th>\n",
       "      <th>Attack</th>\n",
       "      <th>Defense</th>\n",
       "      <th>Sp. Atk</th>\n",
       "      <th>Sp. Def</th>\n",
       "      <th>Speed</th>\n",
       "      <th>Generation</th>\n",
       "      <th>Legendary</th>\n",
       "      <th>Predicted HP</th>\n",
       "      <th>Predicted % dif</th>\n",
       "    </tr>\n",
       "  </thead>\n",
       "  <tbody>\n",
       "    <tr>\n",
       "      <th>44</th>\n",
       "      <td>39</td>\n",
       "      <td>Jigglypuff</td>\n",
       "      <td>Normal</td>\n",
       "      <td>Fairy</td>\n",
       "      <td>270</td>\n",
       "      <td>115.0</td>\n",
       "      <td>45</td>\n",
       "      <td>20</td>\n",
       "      <td>45</td>\n",
       "      <td>25</td>\n",
       "      <td>20</td>\n",
       "      <td>1</td>\n",
       "      <td>False</td>\n",
       "      <td>102.101087</td>\n",
       "      <td>7.768064</td>\n",
       "    </tr>\n",
       "    <tr>\n",
       "      <th>45</th>\n",
       "      <td>40</td>\n",
       "      <td>Wigglytuff</td>\n",
       "      <td>Normal</td>\n",
       "      <td>Fairy</td>\n",
       "      <td>435</td>\n",
       "      <td>140.0</td>\n",
       "      <td>70</td>\n",
       "      <td>45</td>\n",
       "      <td>85</td>\n",
       "      <td>50</td>\n",
       "      <td>45</td>\n",
       "      <td>1</td>\n",
       "      <td>False</td>\n",
       "      <td>102.096269</td>\n",
       "      <td>19.839885</td>\n",
       "    </tr>\n",
       "    <tr>\n",
       "      <th>96</th>\n",
       "      <td>89</td>\n",
       "      <td>Muk</td>\n",
       "      <td>Poison</td>\n",
       "      <td>NaN</td>\n",
       "      <td>500</td>\n",
       "      <td>105.0</td>\n",
       "      <td>105</td>\n",
       "      <td>75</td>\n",
       "      <td>65</td>\n",
       "      <td>100</td>\n",
       "      <td>50</td>\n",
       "      <td>1</td>\n",
       "      <td>False</td>\n",
       "      <td>102.094763</td>\n",
       "      <td>1.861766</td>\n",
       "    </tr>\n",
       "    <tr>\n",
       "      <th>120</th>\n",
       "      <td>112</td>\n",
       "      <td>Rhydon</td>\n",
       "      <td>Ground</td>\n",
       "      <td>Rock</td>\n",
       "      <td>485</td>\n",
       "      <td>105.0</td>\n",
       "      <td>130</td>\n",
       "      <td>120</td>\n",
       "      <td>45</td>\n",
       "      <td>45</td>\n",
       "      <td>40</td>\n",
       "      <td>1</td>\n",
       "      <td>False</td>\n",
       "      <td>102.094820</td>\n",
       "      <td>1.861729</td>\n",
       "    </tr>\n",
       "    <tr>\n",
       "      <th>121</th>\n",
       "      <td>113</td>\n",
       "      <td>Chansey</td>\n",
       "      <td>Normal</td>\n",
       "      <td>NaN</td>\n",
       "      <td>450</td>\n",
       "      <td>250.0</td>\n",
       "      <td>5</td>\n",
       "      <td>5</td>\n",
       "      <td>35</td>\n",
       "      <td>105</td>\n",
       "      <td>50</td>\n",
       "      <td>1</td>\n",
       "      <td>False</td>\n",
       "      <td>102.100019</td>\n",
       "      <td>49.128044</td>\n",
       "    </tr>\n",
       "    <tr>\n",
       "      <th>...</th>\n",
       "      <td>...</td>\n",
       "      <td>...</td>\n",
       "      <td>...</td>\n",
       "      <td>...</td>\n",
       "      <td>...</td>\n",
       "      <td>...</td>\n",
       "      <td>...</td>\n",
       "      <td>...</td>\n",
       "      <td>...</td>\n",
       "      <td>...</td>\n",
       "      <td>...</td>\n",
       "      <td>...</td>\n",
       "      <td>...</td>\n",
       "      <td>...</td>\n",
       "      <td>...</td>\n",
       "    </tr>\n",
       "    <tr>\n",
       "      <th>741</th>\n",
       "      <td>673</td>\n",
       "      <td>Gogoat</td>\n",
       "      <td>Grass</td>\n",
       "      <td>NaN</td>\n",
       "      <td>531</td>\n",
       "      <td>123.0</td>\n",
       "      <td>100</td>\n",
       "      <td>62</td>\n",
       "      <td>97</td>\n",
       "      <td>81</td>\n",
       "      <td>68</td>\n",
       "      <td>6</td>\n",
       "      <td>False</td>\n",
       "      <td>102.094820</td>\n",
       "      <td>12.011198</td>\n",
       "    </tr>\n",
       "    <tr>\n",
       "      <th>769</th>\n",
       "      <td>699</td>\n",
       "      <td>Aurorus</td>\n",
       "      <td>Rock</td>\n",
       "      <td>Ice</td>\n",
       "      <td>521</td>\n",
       "      <td>123.0</td>\n",
       "      <td>77</td>\n",
       "      <td>72</td>\n",
       "      <td>99</td>\n",
       "      <td>92</td>\n",
       "      <td>58</td>\n",
       "      <td>6</td>\n",
       "      <td>False</td>\n",
       "      <td>102.094820</td>\n",
       "      <td>12.011198</td>\n",
       "    </tr>\n",
       "    <tr>\n",
       "      <th>792</th>\n",
       "      <td>716</td>\n",
       "      <td>Xerneas</td>\n",
       "      <td>Fairy</td>\n",
       "      <td>NaN</td>\n",
       "      <td>680</td>\n",
       "      <td>126.0</td>\n",
       "      <td>131</td>\n",
       "      <td>95</td>\n",
       "      <td>131</td>\n",
       "      <td>98</td>\n",
       "      <td>99</td>\n",
       "      <td>6</td>\n",
       "      <td>True</td>\n",
       "      <td>102.093816</td>\n",
       "      <td>13.502740</td>\n",
       "    </tr>\n",
       "    <tr>\n",
       "      <th>793</th>\n",
       "      <td>717</td>\n",
       "      <td>Yveltal</td>\n",
       "      <td>Dark</td>\n",
       "      <td>Flying</td>\n",
       "      <td>680</td>\n",
       "      <td>126.0</td>\n",
       "      <td>131</td>\n",
       "      <td>95</td>\n",
       "      <td>131</td>\n",
       "      <td>98</td>\n",
       "      <td>99</td>\n",
       "      <td>6</td>\n",
       "      <td>True</td>\n",
       "      <td>102.093816</td>\n",
       "      <td>13.502740</td>\n",
       "    </tr>\n",
       "    <tr>\n",
       "      <th>794</th>\n",
       "      <td>718</td>\n",
       "      <td>Zygarde50% Forme</td>\n",
       "      <td>Dragon</td>\n",
       "      <td>Ground</td>\n",
       "      <td>600</td>\n",
       "      <td>108.0</td>\n",
       "      <td>100</td>\n",
       "      <td>121</td>\n",
       "      <td>81</td>\n",
       "      <td>95</td>\n",
       "      <td>95</td>\n",
       "      <td>6</td>\n",
       "      <td>True</td>\n",
       "      <td>102.094249</td>\n",
       "      <td>3.713208</td>\n",
       "    </tr>\n",
       "  </tbody>\n",
       "</table>\n",
       "<p>66 rows × 15 columns</p>\n",
       "</div>"
      ],
      "text/plain": [
       "       #              Name  Type 1  Type 2  Total     HP  Attack  Defense  \\\n",
       "44    39        Jigglypuff  Normal   Fairy    270  115.0      45       20   \n",
       "45    40        Wigglytuff  Normal   Fairy    435  140.0      70       45   \n",
       "96    89               Muk  Poison     NaN    500  105.0     105       75   \n",
       "120  112            Rhydon  Ground    Rock    485  105.0     130      120   \n",
       "121  113           Chansey  Normal     NaN    450  250.0       5        5   \n",
       "..   ...               ...     ...     ...    ...    ...     ...      ...   \n",
       "741  673            Gogoat   Grass     NaN    531  123.0     100       62   \n",
       "769  699           Aurorus    Rock     Ice    521  123.0      77       72   \n",
       "792  716           Xerneas   Fairy     NaN    680  126.0     131       95   \n",
       "793  717           Yveltal    Dark  Flying    680  126.0     131       95   \n",
       "794  718  Zygarde50% Forme  Dragon  Ground    600  108.0     100      121   \n",
       "\n",
       "     Sp. Atk  Sp. Def  Speed  Generation  Legendary  Predicted HP  \\\n",
       "44        45       25     20           1      False    102.101087   \n",
       "45        85       50     45           1      False    102.096269   \n",
       "96        65      100     50           1      False    102.094763   \n",
       "120       45       45     40           1      False    102.094820   \n",
       "121       35      105     50           1      False    102.100019   \n",
       "..       ...      ...    ...         ...        ...           ...   \n",
       "741       97       81     68           6      False    102.094820   \n",
       "769       99       92     58           6      False    102.094820   \n",
       "792      131       98     99           6       True    102.093816   \n",
       "793      131       98     99           6       True    102.093816   \n",
       "794       81       95     95           6       True    102.094249   \n",
       "\n",
       "     Predicted % dif  \n",
       "44          7.768064  \n",
       "45         19.839885  \n",
       "96          1.861766  \n",
       "120         1.861729  \n",
       "121        49.128044  \n",
       "..               ...  \n",
       "741        12.011198  \n",
       "769        12.011198  \n",
       "792        13.502740  \n",
       "793        13.502740  \n",
       "794         3.713208  \n",
       "\n",
       "[66 rows x 15 columns]"
      ]
     },
     "metadata": {},
     "output_type": "display_data"
    }
   ],
   "source": [
    "df['HP'] = df['HP'].astype(float)\n",
    "\n",
    "df['Predicted HP'] = predictions\n",
    "df['Predicted % dif'] = perdif(df['HP'],df['Predicted HP'])\n",
    "display(df[df['Predicted % dif'] > 0.0])"
   ]
  },
  {
   "cell_type": "markdown",
   "metadata": {
    "id": "Nkc13AlZRRl-"
   },
   "source": [
    "**Amount of pokemon with a percentage differance of more than 0%**\n",
    "\n",
    "Below we are checking the count of the Pokemon's HP that was not predicted correctly."
   ]
  },
  {
   "cell_type": "code",
   "execution_count": 60,
   "metadata": {
    "colab": {
     "base_uri": "https://localhost:8080/"
    },
    "id": "B5fxacuvRbEx",
    "outputId": "cb1fc9cb-b4bb-42ab-af35-e66f02edc6b2"
   },
   "outputs": [
    {
     "name": "stdout",
     "output_type": "stream",
     "text": [
      "Pokemon count with incorrect HP Predictions:  66\n"
     ]
    }
   ],
   "source": [
    "print('Pokemon count with incorrect HP Predictions: ', (df[df['Predicted % dif'] > 0.0]).shape[0])"
   ]
  },
  {
   "cell_type": "markdown",
   "metadata": {
    "id": "eqVM_CmhyJ-a"
   },
   "source": [
    "**Running the prediction algo 1000 times and compute mean of pokemon with a percentage differance of more than 0%**"
   ]
  },
  {
   "cell_type": "code",
   "execution_count": 61,
   "metadata": {
    "colab": {
     "base_uri": "https://localhost:8080/"
    },
    "id": "eMg8VcmiySJq",
    "outputId": "ddb896aa-1714-4c04-9d66-902d60d3283b"
   },
   "outputs": [
    {
     "name": "stdout",
     "output_type": "stream",
     "text": [
      "Pokemon count with incorrect HP Predictions with 1000 tries:  9.0\n"
     ]
    }
   ],
   "source": [
    "n = 1000\n",
    "tries = []\n",
    "while n > 0:\n",
    "  knn_regr = KNeighborsRegressor(n_neighbors= 11, weights='distance', algorithm='brute', metric= 'manhattan')\n",
    "  knn_regr.fit(X, y)\n",
    "  predictions = knn_regr.predict(X)\n",
    "  df['HP'] = df['HP'].astype(float)\n",
    "  df['Predicted HP'] = predictions\n",
    "  df['Predicted % dif'] = perdif(df['HP'],df['Predicted HP'])\n",
    "  tries.append((df[df['Predicted % dif'] > 0.0]).shape[0])\n",
    "  n -= 1\n",
    "print('Pokemon count with incorrect HP Predictions with 1000 tries: ', sum(tries)/len(tries))"
   ]
  },
  {
   "cell_type": "markdown",
   "metadata": {
    "id": "TsxI0ATcYKgL"
   },
   "source": [
    "# KNN Classification Prediction on Type 1"
   ]
  },
  {
   "cell_type": "markdown",
   "metadata": {
    "id": "wIleXRKqsoHs"
   },
   "source": [
    "**First we need to turn Type 1 into a int column**\n",
    "\n",
    "Here we are attempting to see if prediction would be better is we try to predict _Type 1_ instead of a Pokemon's HP."
   ]
  },
  {
   "cell_type": "code",
   "execution_count": 62,
   "metadata": {
    "colab": {
     "base_uri": "https://localhost:8080/"
    },
    "id": "vgwOcqvjYXdt",
    "outputId": "c5706d9b-cef7-432c-964b-bbe6afc050ee"
   },
   "outputs": [
    {
     "name": "stdout",
     "output_type": "stream",
     "text": [
      "<class 'pandas.core.frame.DataFrame'>\n",
      "RangeIndex: 800 entries, 0 to 799\n",
      "Data columns (total 15 columns):\n",
      " #   Column           Non-Null Count  Dtype  \n",
      "---  ------           --------------  -----  \n",
      " 0   #                800 non-null    int64  \n",
      " 1   Name             800 non-null    object \n",
      " 2   Type 1           800 non-null    int64  \n",
      " 3   Type 2           414 non-null    object \n",
      " 4   Total            800 non-null    int64  \n",
      " 5   HP               800 non-null    float64\n",
      " 6   Attack           800 non-null    int64  \n",
      " 7   Defense          800 non-null    int64  \n",
      " 8   Sp. Atk          800 non-null    int64  \n",
      " 9   Sp. Def          800 non-null    int64  \n",
      " 10  Speed            800 non-null    int64  \n",
      " 11  Generation       800 non-null    int64  \n",
      " 12  Legendary        800 non-null    bool   \n",
      " 13  Predicted HP     800 non-null    float64\n",
      " 14  Predicted % dif  800 non-null    float64\n",
      "dtypes: bool(1), float64(3), int64(9), object(2)\n",
      "memory usage: 88.4+ KB\n"
     ]
    }
   ],
   "source": [
    "df_c = df.copy()\n",
    "x = 0\n",
    "for i in df_c['Type 1']:\n",
    "  if df_c['Type 1'][x] == 'Water':\n",
    "    df_c['Type 1'][x] = 1\n",
    "  if df_c['Type 1'][x] == 'Normal':\n",
    "    df_c['Type 1'][x] = 2\n",
    "  if df_c['Type 1'][x] == 'Grass':\n",
    "    df_c['Type 1'][x] = 3\n",
    "  if df_c['Type 1'][x] == 'Bug':\n",
    "    df_c['Type 1'][x] = 4\n",
    "  if df_c['Type 1'][x] == 'Psychic':\n",
    "    df_c['Type 1'][x] = 5\n",
    "  if df_c['Type 1'][x] == 'Fire':\n",
    "    df_c['Type 1'][x] = 6\n",
    "  if df_c['Type 1'][x] == 'Electric':\n",
    "    df_c['Type 1'][x] = 7\n",
    "  if df_c['Type 1'][x] == 'Rock':\n",
    "    df_c['Type 1'][x] = 8\n",
    "  if df_c['Type 1'][x] == 'Ghost':\n",
    "    df_c['Type 1'][x] = 9\n",
    "  if df_c['Type 1'][x] == 'Dragon':\n",
    "    df_c['Type 1'][x] = 10\n",
    "  if df_c['Type 1'][x] == 'Ground':\n",
    "    df_c['Type 1'][x] = 11\n",
    "  if df_c['Type 1'][x] == 'Dark':\n",
    "    df_c['Type 1'][x] = 12\n",
    "  if df_c['Type 1'][x] == 'Poison':\n",
    "    df_c['Type 1'][x] = 13\n",
    "  if df_c['Type 1'][x] == 'Fighting':\n",
    "    df_c['Type 1'][x] = 14\n",
    "  if df_c['Type 1'][x] == 'Steel':\n",
    "    df_c['Type 1'][x] = 15\n",
    "  if df_c['Type 1'][x] == 'Ice':\n",
    "    df_c['Type 1'][x] = 16\n",
    "  if df_c['Type 1'][x] == 'Fairy':\n",
    "    df_c['Type 1'][x] = 17\n",
    "  if df_c['Type 1'][x] == 'Flying':\n",
    "    df_c['Type 1'][x] = 18  \n",
    "  x+=1\n",
    "df_c.head(10)\n",
    "df_c['Type 1'] = pd.to_numeric(df_c['Type 1'])\n",
    "df_c.info()\n"
   ]
  },
  {
   "cell_type": "markdown",
   "metadata": {
    "id": "f1f2qm-ds_nf"
   },
   "source": [
    "**Set predictors, split and scale the data.**"
   ]
  },
  {
   "cell_type": "code",
   "execution_count": 63,
   "metadata": {
    "colab": {
     "base_uri": "https://localhost:8080/"
    },
    "id": "ESzFR6ose482",
    "outputId": "60bc1a90-ceba-41c9-bb80-f04b2f5d8d43"
   },
   "outputs": [
    {
     "name": "stdout",
     "output_type": "stream",
     "text": [
      "[[ 0.19965661  0.88852169  1.29746158 -0.38370156  0.60101506  0.04920228\n",
      "   1.53085826]\n",
      " [ 0.32379543  0.08877219 -0.10309665 -0.03880128  0.18910443  0.76487186\n",
      "  -1.39901401]\n",
      " [-0.71069477 -1.0308771  -0.88118455 -0.97943841 -1.30875242 -0.53634555\n",
      "  -0.2270651 ]\n",
      " [-0.50379673 -1.0308771  -0.72556697 -0.6658927  -0.18535978  0.43956751\n",
      "  -0.81303955]\n",
      " [-0.09000065  0.72857179 -0.10309665  0.43151728  0.37633653  1.25282839\n",
      "  -1.39901401]\n",
      " [-0.50379673 -0.8709272  -1.03680213 -0.82266555 -1.12152031  0.27691533\n",
      "   0.94488381]\n",
      " [-0.91759281 -0.5510274  -0.88118455 -1.29298411 -0.93428821 -0.37369338\n",
      "   0.94488381]\n",
      " [-0.71069477 -0.16714764 -1.19241971 -0.97943841 -1.30875242 -0.04838902\n",
      "   0.94488381]\n",
      " [ 0.11689739 -1.190827   -0.72556697 -0.35234699 -0.7470561  -1.34960644\n",
      "  -0.2270651 ]\n",
      " [-1.33138889  0.24872209 -0.88118455 -0.97943841 -1.30875242  0.27691533\n",
      "  -1.39901401]]\n"
     ]
    }
   ],
   "source": [
    "y = df_c['Type 1']\n",
    "X = df_c.loc[:,'HP':'Generation']\n",
    "X_train, X_test, y_train, y_test = train_test_split(X, y, test_size=0.90, random_state=0)\n",
    "scaler = StandardScaler()\n",
    "X_train = scaler.fit_transform(X_train)\n",
    "X_test  = scaler.transform(X_test)\n",
    "\n",
    "#sanity Check\n",
    "print(X_train[:10])"
   ]
  },
  {
   "cell_type": "markdown",
   "metadata": {
    "id": "g7v-DH2ctXUL"
   },
   "source": [
    "**Start training**"
   ]
  },
  {
   "cell_type": "code",
   "execution_count": 64,
   "metadata": {
    "colab": {
     "base_uri": "https://localhost:8080/"
    },
    "id": "ntUwe2pStco7",
    "outputId": "127395c6-cae2-4560-ad5e-ea9ae968ee33"
   },
   "outputs": [
    {
     "data": {
      "text/plain": [
       "KNeighborsClassifier(algorithm='brute')"
      ]
     },
     "execution_count": 64,
     "metadata": {},
     "output_type": "execute_result"
    }
   ],
   "source": [
    "knn_class = KNeighborsClassifier(algorithm =\"brute\")\n",
    "knn_class.fit(X_train, y_train)"
   ]
  },
  {
   "cell_type": "markdown",
   "metadata": {
    "id": "reNFkSBbtbmc"
   },
   "source": [
    "**Prediction start**"
   ]
  },
  {
   "cell_type": "code",
   "execution_count": 65,
   "metadata": {
    "id": "G3pMVPWAtwEB"
   },
   "outputs": [],
   "source": [
    "predictions = knn_class.predict(X)"
   ]
  },
  {
   "cell_type": "code",
   "execution_count": 66,
   "metadata": {
    "colab": {
     "base_uri": "https://localhost:8080/"
    },
    "id": "hBhZriYUtyX3",
    "outputId": "3c349d9e-bc55-4031-f997-72020d8ad34f"
   },
   "outputs": [
    {
     "name": "stdout",
     "output_type": "stream",
     "text": [
      "[ 2  2  2  2  2  2  2 11  2  2]\n",
      "[3 3 3 3 6 6 6 6 6 1]\n",
      "0.13125\n"
     ]
    }
   ],
   "source": [
    "print(predictions[:10])\n",
    "print(df_c['Type 1'][:10].values)\n",
    "print((predictions == df_c['Type 1'].values).mean())\n"
   ]
  },
  {
   "cell_type": "markdown",
   "metadata": {
    "id": "CRpRj-Jaxfch"
   },
   "source": [
    "### **Conclusion**\n",
    "\n",
    "The Pokemon-HP-Predictions project uses a modified regression model based on 8 numerical features: #, HP, Attack, Defense, Sp. Atk, Sp. Def, Speed, and Generation. The numeric features in this dataframe are not direclty co-related to the Type 1 field. Best to use KNeighborsRegressor and focus on predicting HP.\n",
    "\n",
    "After running our predictions, we observed that there was an accuracy of **99.98875%** that the Pokemon's HP would be predicted correctly based on the stats of a Pokemon. That's a really high percantage being predicted correctly."
   ]
  }
 ],
 "metadata": {
  "colab": {
   "collapsed_sections": [],
   "name": "Pokemon Predictions.ipynb",
   "provenance": []
  },
  "kernelspec": {
   "display_name": "Python 3",
   "language": "python",
   "name": "python3"
  },
  "language_info": {
   "codemirror_mode": {
    "name": "ipython",
    "version": 3
   },
   "file_extension": ".py",
   "mimetype": "text/x-python",
   "name": "python",
   "nbconvert_exporter": "python",
   "pygments_lexer": "ipython3",
   "version": "3.8.5"
  }
 },
 "nbformat": 4,
 "nbformat_minor": 1
}
